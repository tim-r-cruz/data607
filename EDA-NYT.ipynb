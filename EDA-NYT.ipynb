{
 "cells": [
  {
   "cell_type": "code",
   "execution_count": 8,
   "metadata": {
    "ExecuteTime": {
     "end_time": "2019-04-07T02:18:18.522162Z",
     "start_time": "2019-04-07T02:18:18.518688Z"
    }
   },
   "outputs": [],
   "source": [
    "import pandas as pd \n",
    "import numpy as np \n",
    "import glob\n",
    "import matplotlib.pyplot as plt \n",
    "from textblob import TextBlob\n",
    "import seaborn as sns \n",
    "import nltk\n",
    "import string\n",
    "from collections import Counter\n",
    "import graphviz\n",
    "\n",
    "import sklearn as sk \n",
    "from sklearn.tree import DecisionTreeClassifier \n",
    "from sklearn.ensemble import RandomForestClassifier\n",
    "from sklearn.model_selection import train_test_split "
   ]
  },
  {
   "cell_type": "code",
   "execution_count": 2,
   "metadata": {
    "ExecuteTime": {
     "end_time": "2019-04-07T02:15:05.995267Z",
     "start_time": "2019-04-07T02:15:05.986793Z"
    }
   },
   "outputs": [
    {
     "data": {
      "text/plain": [
       "['ArticlesApril2017.csv',\n",
       " 'ArticlesApril2018.csv',\n",
       " 'ArticlesFeb2017.csv',\n",
       " 'ArticlesFeb2018.csv',\n",
       " 'ArticlesJan2017.csv',\n",
       " 'ArticlesJan2018.csv',\n",
       " 'ArticlesMarch2017.csv',\n",
       " 'ArticlesMarch2018.csv',\n",
       " 'ArticlesMay2017.csv']"
      ]
     },
     "execution_count": 2,
     "metadata": {},
     "output_type": "execute_result"
    }
   ],
   "source": [
    "article_file = glob.glob(\"Articles*.csv\")\n",
    "comment_file = glob.glob('Comments*.csv')\n",
    "article_file"
   ]
  },
  {
   "cell_type": "code",
   "execution_count": 3,
   "metadata": {
    "ExecuteTime": {
     "end_time": "2019-04-07T02:15:10.490684Z",
     "start_time": "2019-04-07T02:15:07.866418Z"
    }
   },
   "outputs": [
    {
     "name": "stderr",
     "output_type": "stream",
     "text": [
      "C:\\Users\\timrc\\AppData\\Local\\Continuum\\anaconda3\\lib\\site-packages\\IPython\\core\\interactiveshell.py:2785: DtypeWarning: Columns (32) have mixed types. Specify dtype option on import or set low_memory=False.\n",
      "  interactivity=interactivity, compiler=compiler, result=result)\n"
     ]
    }
   ],
   "source": [
    "# TO DO: Make this parallel \n",
    "comments= pd.read_csv('CommentsApril2018.csv')"
   ]
  },
  {
   "cell_type": "code",
   "execution_count": 4,
   "metadata": {
    "ExecuteTime": {
     "end_time": "2019-04-07T02:15:19.144731Z",
     "start_time": "2019-04-07T02:15:17.863050Z"
    }
   },
   "outputs": [],
   "source": [
    "# Text pre-processing \n",
    "def preprocess(commentBody):\n",
    "    commentBody = commentBody.str.replace(\"(<br/>)\", \"\")\n",
    "    commentBody = commentBody.str.replace('(<a).*(>).*(</a>)', '')\n",
    "    commentBody = commentBody.str.replace('(&amp)', '')\n",
    "    commentBody = commentBody.str.replace('(&gt)', '')\n",
    "    commentBody = commentBody.str.replace('(&lt)', '')\n",
    "    commentBody = commentBody.str.replace('(\\xa0)', ' ')  \n",
    "    return commentBody\n",
    "comments.commentBody = preprocess(comments.commentBody)"
   ]
  },
  {
   "cell_type": "code",
   "execution_count": 5,
   "metadata": {
    "ExecuteTime": {
     "end_time": "2019-04-07T02:15:20.562099Z",
     "start_time": "2019-04-07T02:15:20.508066Z"
    }
   },
   "outputs": [],
   "source": [
    "# Drop null columns \n",
    "comments.commentBody = preprocess(comments.commentBody)\n",
    "comments.drop(['commentTitle', 'recommendedFlag', 'reportAbuseFlag', 'userURL'], axis=1, inplace=True)"
   ]
  },
  {
   "cell_type": "code",
   "execution_count": 7,
   "metadata": {},
   "outputs": [
    {
     "data": {
      "text/html": [
       "<div>\n",
       "<style scoped>\n",
       "    .dataframe tbody tr th:only-of-type {\n",
       "        vertical-align: middle;\n",
       "    }\n",
       "\n",
       "    .dataframe tbody tr th {\n",
       "        vertical-align: top;\n",
       "    }\n",
       "\n",
       "    .dataframe thead th {\n",
       "        text-align: right;\n",
       "    }\n",
       "</style>\n",
       "<table border=\"1\" class=\"dataframe\">\n",
       "  <thead>\n",
       "    <tr style=\"text-align: right;\">\n",
       "      <th></th>\n",
       "      <th>count</th>\n",
       "      <th>unique</th>\n",
       "      <th>top</th>\n",
       "      <th>freq</th>\n",
       "    </tr>\n",
       "  </thead>\n",
       "  <tbody>\n",
       "    <tr>\n",
       "      <th>articleID</th>\n",
       "      <td>264924</td>\n",
       "      <td>1351</td>\n",
       "      <td>5acbc4e2068401528a2a5a2c</td>\n",
       "      <td>3823</td>\n",
       "    </tr>\n",
       "    <tr>\n",
       "      <th>commentBody</th>\n",
       "      <td>264924</td>\n",
       "      <td>264153</td>\n",
       "      <td>Well said.</td>\n",
       "      <td>27</td>\n",
       "    </tr>\n",
       "    <tr>\n",
       "      <th>commentType</th>\n",
       "      <td>264924</td>\n",
       "      <td>3</td>\n",
       "      <td>comment</td>\n",
       "      <td>181009</td>\n",
       "    </tr>\n",
       "    <tr>\n",
       "      <th>newDesk</th>\n",
       "      <td>264924</td>\n",
       "      <td>39</td>\n",
       "      <td>OpEd</td>\n",
       "      <td>84665</td>\n",
       "    </tr>\n",
       "    <tr>\n",
       "      <th>parentUserDisplayName</th>\n",
       "      <td>83875</td>\n",
       "      <td>17664</td>\n",
       "      <td>Richard Luettgen</td>\n",
       "      <td>475</td>\n",
       "    </tr>\n",
       "    <tr>\n",
       "      <th>permID</th>\n",
       "      <td>264904</td>\n",
       "      <td>264904</td>\n",
       "      <td>26772854</td>\n",
       "      <td>1</td>\n",
       "    </tr>\n",
       "    <tr>\n",
       "      <th>picURL</th>\n",
       "      <td>264924</td>\n",
       "      <td>6708</td>\n",
       "      <td>https://graphics8.nytimes.com/images/apps/time...</td>\n",
       "      <td>115937</td>\n",
       "    </tr>\n",
       "    <tr>\n",
       "      <th>sectionName</th>\n",
       "      <td>264924</td>\n",
       "      <td>36</td>\n",
       "      <td>Unknown</td>\n",
       "      <td>147300</td>\n",
       "    </tr>\n",
       "    <tr>\n",
       "      <th>status</th>\n",
       "      <td>264924</td>\n",
       "      <td>1</td>\n",
       "      <td>approved</td>\n",
       "      <td>264924</td>\n",
       "    </tr>\n",
       "    <tr>\n",
       "      <th>typeOfMaterial</th>\n",
       "      <td>264924</td>\n",
       "      <td>8</td>\n",
       "      <td>News</td>\n",
       "      <td>164877</td>\n",
       "    </tr>\n",
       "    <tr>\n",
       "      <th>userDisplayName</th>\n",
       "      <td>264824</td>\n",
       "      <td>44442</td>\n",
       "      <td>John</td>\n",
       "      <td>1396</td>\n",
       "    </tr>\n",
       "    <tr>\n",
       "      <th>userLocation</th>\n",
       "      <td>264786</td>\n",
       "      <td>15558</td>\n",
       "      <td>NYC</td>\n",
       "      <td>8736</td>\n",
       "    </tr>\n",
       "    <tr>\n",
       "      <th>userTitle</th>\n",
       "      <td>100</td>\n",
       "      <td>14</td>\n",
       "      <td>editor, Wordplay</td>\n",
       "      <td>33</td>\n",
       "    </tr>\n",
       "  </tbody>\n",
       "</table>\n",
       "</div>"
      ],
      "text/plain": [
       "                        count  unique  \\\n",
       "articleID              264924    1351   \n",
       "commentBody            264924  264153   \n",
       "commentType            264924       3   \n",
       "newDesk                264924      39   \n",
       "parentUserDisplayName   83875   17664   \n",
       "permID                 264904  264904   \n",
       "picURL                 264924    6708   \n",
       "sectionName            264924      36   \n",
       "status                 264924       1   \n",
       "typeOfMaterial         264924       8   \n",
       "userDisplayName        264824   44442   \n",
       "userLocation           264786   15558   \n",
       "userTitle                 100      14   \n",
       "\n",
       "                                                                     top  \\\n",
       "articleID                                       5acbc4e2068401528a2a5a2c   \n",
       "commentBody                                                   Well said.   \n",
       "commentType                                                      comment   \n",
       "newDesk                                                             OpEd   \n",
       "parentUserDisplayName                                   Richard Luettgen   \n",
       "permID                                                          26772854   \n",
       "picURL                 https://graphics8.nytimes.com/images/apps/time...   \n",
       "sectionName                                                      Unknown   \n",
       "status                                                          approved   \n",
       "typeOfMaterial                                                      News   \n",
       "userDisplayName                                                     John   \n",
       "userLocation                                                         NYC   \n",
       "userTitle                                               editor, Wordplay   \n",
       "\n",
       "                         freq  \n",
       "articleID                3823  \n",
       "commentBody                27  \n",
       "commentType            181009  \n",
       "newDesk                 84665  \n",
       "parentUserDisplayName     475  \n",
       "permID                      1  \n",
       "picURL                 115937  \n",
       "sectionName            147300  \n",
       "status                 264924  \n",
       "typeOfMaterial         164877  \n",
       "userDisplayName          1396  \n",
       "userLocation             8736  \n",
       "userTitle                  33  "
      ]
     },
     "execution_count": 7,
     "metadata": {},
     "output_type": "execute_result"
    }
   ],
   "source": [
    "# Describe on non-quant data \n",
    "describe = comments.describe(include=['O']).T\n",
    "describe"
   ]
  },
  {
   "cell_type": "code",
   "execution_count": 8,
   "metadata": {},
   "outputs": [
    {
     "data": {
      "text/html": [
       "<div>\n",
       "<style scoped>\n",
       "    .dataframe tbody tr th:only-of-type {\n",
       "        vertical-align: middle;\n",
       "    }\n",
       "\n",
       "    .dataframe tbody tr th {\n",
       "        vertical-align: top;\n",
       "    }\n",
       "\n",
       "    .dataframe thead th {\n",
       "        text-align: right;\n",
       "    }\n",
       "</style>\n",
       "<table border=\"1\" class=\"dataframe\">\n",
       "  <thead>\n",
       "    <tr style=\"text-align: right;\">\n",
       "      <th></th>\n",
       "      <th>count</th>\n",
       "      <th>mean</th>\n",
       "      <th>std</th>\n",
       "      <th>min</th>\n",
       "      <th>25%</th>\n",
       "      <th>50%</th>\n",
       "      <th>75%</th>\n",
       "      <th>max</th>\n",
       "    </tr>\n",
       "  </thead>\n",
       "  <tbody>\n",
       "    <tr>\n",
       "      <th>approveDate</th>\n",
       "      <td>264924.0</td>\n",
       "      <td>1.523844e+09</td>\n",
       "      <td>7.815543e+05</td>\n",
       "      <td>1.522344e+09</td>\n",
       "      <td>1.523278e+09</td>\n",
       "      <td>1.523882e+09</td>\n",
       "      <td>1.524516e+09</td>\n",
       "      <td>1.525233e+09</td>\n",
       "    </tr>\n",
       "    <tr>\n",
       "      <th>articleWordCount</th>\n",
       "      <td>264924.0</td>\n",
       "      <td>1.358169e+03</td>\n",
       "      <td>9.021956e+02</td>\n",
       "      <td>5.300000e+01</td>\n",
       "      <td>9.040000e+02</td>\n",
       "      <td>1.208000e+03</td>\n",
       "      <td>1.472000e+03</td>\n",
       "      <td>9.887000e+03</td>\n",
       "    </tr>\n",
       "    <tr>\n",
       "      <th>commentID</th>\n",
       "      <td>264924.0</td>\n",
       "      <td>2.674474e+07</td>\n",
       "      <td>1.144032e+05</td>\n",
       "      <td>2.653117e+07</td>\n",
       "      <td>2.664844e+07</td>\n",
       "      <td>2.674923e+07</td>\n",
       "      <td>2.684227e+07</td>\n",
       "      <td>2.694126e+07</td>\n",
       "    </tr>\n",
       "    <tr>\n",
       "      <th>commentSequence</th>\n",
       "      <td>264924.0</td>\n",
       "      <td>2.674474e+07</td>\n",
       "      <td>1.144032e+05</td>\n",
       "      <td>2.653117e+07</td>\n",
       "      <td>2.664844e+07</td>\n",
       "      <td>2.674923e+07</td>\n",
       "      <td>2.684227e+07</td>\n",
       "      <td>2.694126e+07</td>\n",
       "    </tr>\n",
       "    <tr>\n",
       "      <th>createDate</th>\n",
       "      <td>264924.0</td>\n",
       "      <td>1.523837e+09</td>\n",
       "      <td>7.819454e+05</td>\n",
       "      <td>1.522344e+09</td>\n",
       "      <td>1.523249e+09</td>\n",
       "      <td>1.523852e+09</td>\n",
       "      <td>1.524515e+09</td>\n",
       "      <td>1.525233e+09</td>\n",
       "    </tr>\n",
       "    <tr>\n",
       "      <th>depth</th>\n",
       "      <td>264924.0</td>\n",
       "      <td>1.338561e+00</td>\n",
       "      <td>5.185143e-01</td>\n",
       "      <td>1.000000e+00</td>\n",
       "      <td>1.000000e+00</td>\n",
       "      <td>1.000000e+00</td>\n",
       "      <td>2.000000e+00</td>\n",
       "      <td>5.000000e+00</td>\n",
       "    </tr>\n",
       "    <tr>\n",
       "      <th>inReplyTo</th>\n",
       "      <td>264924.0</td>\n",
       "      <td>8.470858e+06</td>\n",
       "      <td>1.244170e+07</td>\n",
       "      <td>0.000000e+00</td>\n",
       "      <td>0.000000e+00</td>\n",
       "      <td>0.000000e+00</td>\n",
       "      <td>2.662660e+07</td>\n",
       "      <td>2.694099e+07</td>\n",
       "    </tr>\n",
       "    <tr>\n",
       "      <th>parentID</th>\n",
       "      <td>264924.0</td>\n",
       "      <td>8.470858e+06</td>\n",
       "      <td>1.244170e+07</td>\n",
       "      <td>0.000000e+00</td>\n",
       "      <td>0.000000e+00</td>\n",
       "      <td>0.000000e+00</td>\n",
       "      <td>2.662660e+07</td>\n",
       "      <td>2.694099e+07</td>\n",
       "    </tr>\n",
       "    <tr>\n",
       "      <th>printPage</th>\n",
       "      <td>264924.0</td>\n",
       "      <td>8.187299e+00</td>\n",
       "      <td>1.043908e+01</td>\n",
       "      <td>0.000000e+00</td>\n",
       "      <td>1.000000e+00</td>\n",
       "      <td>1.000000e+00</td>\n",
       "      <td>1.600000e+01</td>\n",
       "      <td>1.090000e+02</td>\n",
       "    </tr>\n",
       "    <tr>\n",
       "      <th>recommendations</th>\n",
       "      <td>264924.0</td>\n",
       "      <td>1.859889e+01</td>\n",
       "      <td>8.999093e+01</td>\n",
       "      <td>0.000000e+00</td>\n",
       "      <td>1.000000e+00</td>\n",
       "      <td>4.000000e+00</td>\n",
       "      <td>1.200000e+01</td>\n",
       "      <td>8.713000e+03</td>\n",
       "    </tr>\n",
       "    <tr>\n",
       "      <th>replyCount</th>\n",
       "      <td>264924.0</td>\n",
       "      <td>4.188258e-01</td>\n",
       "      <td>2.340272e+00</td>\n",
       "      <td>-1.140000e+02</td>\n",
       "      <td>0.000000e+00</td>\n",
       "      <td>0.000000e+00</td>\n",
       "      <td>0.000000e+00</td>\n",
       "      <td>6.680000e+02</td>\n",
       "    </tr>\n",
       "    <tr>\n",
       "      <th>sharing</th>\n",
       "      <td>264924.0</td>\n",
       "      <td>8.067974e-02</td>\n",
       "      <td>2.723432e-01</td>\n",
       "      <td>0.000000e+00</td>\n",
       "      <td>0.000000e+00</td>\n",
       "      <td>0.000000e+00</td>\n",
       "      <td>0.000000e+00</td>\n",
       "      <td>1.000000e+00</td>\n",
       "    </tr>\n",
       "    <tr>\n",
       "      <th>timespeople</th>\n",
       "      <td>264924.0</td>\n",
       "      <td>9.168063e-01</td>\n",
       "      <td>2.761753e-01</td>\n",
       "      <td>0.000000e+00</td>\n",
       "      <td>1.000000e+00</td>\n",
       "      <td>1.000000e+00</td>\n",
       "      <td>1.000000e+00</td>\n",
       "      <td>1.000000e+00</td>\n",
       "    </tr>\n",
       "    <tr>\n",
       "      <th>trusted</th>\n",
       "      <td>264924.0</td>\n",
       "      <td>3.320575e-02</td>\n",
       "      <td>1.791738e-01</td>\n",
       "      <td>0.000000e+00</td>\n",
       "      <td>0.000000e+00</td>\n",
       "      <td>0.000000e+00</td>\n",
       "      <td>0.000000e+00</td>\n",
       "      <td>1.000000e+00</td>\n",
       "    </tr>\n",
       "    <tr>\n",
       "      <th>updateDate</th>\n",
       "      <td>264924.0</td>\n",
       "      <td>1.523845e+09</td>\n",
       "      <td>7.815387e+05</td>\n",
       "      <td>1.522344e+09</td>\n",
       "      <td>1.523278e+09</td>\n",
       "      <td>1.523882e+09</td>\n",
       "      <td>1.524518e+09</td>\n",
       "      <td>1.525233e+09</td>\n",
       "    </tr>\n",
       "    <tr>\n",
       "      <th>userID</th>\n",
       "      <td>264924.0</td>\n",
       "      <td>5.131699e+07</td>\n",
       "      <td>2.381811e+07</td>\n",
       "      <td>1.166000e+03</td>\n",
       "      <td>3.410798e+07</td>\n",
       "      <td>5.841015e+07</td>\n",
       "      <td>6.884380e+07</td>\n",
       "      <td>8.585631e+07</td>\n",
       "    </tr>\n",
       "  </tbody>\n",
       "</table>\n",
       "</div>"
      ],
      "text/plain": [
       "                     count          mean           std           min  \\\n",
       "approveDate       264924.0  1.523844e+09  7.815543e+05  1.522344e+09   \n",
       "articleWordCount  264924.0  1.358169e+03  9.021956e+02  5.300000e+01   \n",
       "commentID         264924.0  2.674474e+07  1.144032e+05  2.653117e+07   \n",
       "commentSequence   264924.0  2.674474e+07  1.144032e+05  2.653117e+07   \n",
       "createDate        264924.0  1.523837e+09  7.819454e+05  1.522344e+09   \n",
       "depth             264924.0  1.338561e+00  5.185143e-01  1.000000e+00   \n",
       "inReplyTo         264924.0  8.470858e+06  1.244170e+07  0.000000e+00   \n",
       "parentID          264924.0  8.470858e+06  1.244170e+07  0.000000e+00   \n",
       "printPage         264924.0  8.187299e+00  1.043908e+01  0.000000e+00   \n",
       "recommendations   264924.0  1.859889e+01  8.999093e+01  0.000000e+00   \n",
       "replyCount        264924.0  4.188258e-01  2.340272e+00 -1.140000e+02   \n",
       "sharing           264924.0  8.067974e-02  2.723432e-01  0.000000e+00   \n",
       "timespeople       264924.0  9.168063e-01  2.761753e-01  0.000000e+00   \n",
       "trusted           264924.0  3.320575e-02  1.791738e-01  0.000000e+00   \n",
       "updateDate        264924.0  1.523845e+09  7.815387e+05  1.522344e+09   \n",
       "userID            264924.0  5.131699e+07  2.381811e+07  1.166000e+03   \n",
       "\n",
       "                           25%           50%           75%           max  \n",
       "approveDate       1.523278e+09  1.523882e+09  1.524516e+09  1.525233e+09  \n",
       "articleWordCount  9.040000e+02  1.208000e+03  1.472000e+03  9.887000e+03  \n",
       "commentID         2.664844e+07  2.674923e+07  2.684227e+07  2.694126e+07  \n",
       "commentSequence   2.664844e+07  2.674923e+07  2.684227e+07  2.694126e+07  \n",
       "createDate        1.523249e+09  1.523852e+09  1.524515e+09  1.525233e+09  \n",
       "depth             1.000000e+00  1.000000e+00  2.000000e+00  5.000000e+00  \n",
       "inReplyTo         0.000000e+00  0.000000e+00  2.662660e+07  2.694099e+07  \n",
       "parentID          0.000000e+00  0.000000e+00  2.662660e+07  2.694099e+07  \n",
       "printPage         1.000000e+00  1.000000e+00  1.600000e+01  1.090000e+02  \n",
       "recommendations   1.000000e+00  4.000000e+00  1.200000e+01  8.713000e+03  \n",
       "replyCount        0.000000e+00  0.000000e+00  0.000000e+00  6.680000e+02  \n",
       "sharing           0.000000e+00  0.000000e+00  0.000000e+00  1.000000e+00  \n",
       "timespeople       1.000000e+00  1.000000e+00  1.000000e+00  1.000000e+00  \n",
       "trusted           0.000000e+00  0.000000e+00  0.000000e+00  1.000000e+00  \n",
       "updateDate        1.523278e+09  1.523882e+09  1.524518e+09  1.525233e+09  \n",
       "userID            3.410798e+07  5.841015e+07  6.884380e+07  8.585631e+07  "
      ]
     },
     "execution_count": 8,
     "metadata": {},
     "output_type": "execute_result"
    }
   ],
   "source": [
    "# Describe numeric data \n",
    "comments.describe().T"
   ]
  },
  {
   "cell_type": "code",
   "execution_count": 111,
   "metadata": {
    "ExecuteTime": {
     "end_time": "2019-04-07T21:01:00.126279Z",
     "start_time": "2019-04-07T21:01:00.066759Z"
    }
   },
   "outputs": [
    {
     "data": {
      "text/html": [
       "<div>\n",
       "<style scoped>\n",
       "    .dataframe tbody tr th:only-of-type {\n",
       "        vertical-align: middle;\n",
       "    }\n",
       "\n",
       "    .dataframe tbody tr th {\n",
       "        vertical-align: top;\n",
       "    }\n",
       "\n",
       "    .dataframe thead th {\n",
       "        text-align: right;\n",
       "    }\n",
       "</style>\n",
       "<table border=\"1\" class=\"dataframe\">\n",
       "  <thead>\n",
       "    <tr style=\"text-align: right;\">\n",
       "      <th></th>\n",
       "      <th>approveDate</th>\n",
       "      <th>articleID</th>\n",
       "      <th>articleWordCount</th>\n",
       "      <th>commentBody</th>\n",
       "      <th>commentID</th>\n",
       "      <th>commentSequence</th>\n",
       "      <th>commentType</th>\n",
       "      <th>createDate</th>\n",
       "      <th>depth</th>\n",
       "      <th>editorsSelection</th>\n",
       "      <th>...</th>\n",
       "      <th>status</th>\n",
       "      <th>timespeople</th>\n",
       "      <th>trusted</th>\n",
       "      <th>typeOfMaterial</th>\n",
       "      <th>updateDate</th>\n",
       "      <th>userDisplayName</th>\n",
       "      <th>userID</th>\n",
       "      <th>userLocation</th>\n",
       "      <th>userTitle</th>\n",
       "      <th>sentiment</th>\n",
       "    </tr>\n",
       "  </thead>\n",
       "  <tbody>\n",
       "    <tr>\n",
       "      <th>0</th>\n",
       "      <td>1524594282</td>\n",
       "      <td>5adf6684068401528a2aa69b</td>\n",
       "      <td>781.0</td>\n",
       "      <td>How could the league possibly refuse this offe...</td>\n",
       "      <td>26853969.0</td>\n",
       "      <td>26853969.0</td>\n",
       "      <td>comment</td>\n",
       "      <td>1524594011</td>\n",
       "      <td>1.0</td>\n",
       "      <td>False</td>\n",
       "      <td>...</td>\n",
       "      <td>approved</td>\n",
       "      <td>1</td>\n",
       "      <td>0</td>\n",
       "      <td>News</td>\n",
       "      <td>1524594282</td>\n",
       "      <td>Christopher Rillo</td>\n",
       "      <td>46566740.0</td>\n",
       "      <td>San Francisco</td>\n",
       "      <td>NaN</td>\n",
       "      <td>0.000000</td>\n",
       "    </tr>\n",
       "    <tr>\n",
       "      <th>1</th>\n",
       "      <td>1524594252</td>\n",
       "      <td>5adf6684068401528a2aa69b</td>\n",
       "      <td>781.0</td>\n",
       "      <td>So then the execs can be like \"yeah...we will ...</td>\n",
       "      <td>26853699.0</td>\n",
       "      <td>26853699.0</td>\n",
       "      <td>comment</td>\n",
       "      <td>1524593146</td>\n",
       "      <td>1.0</td>\n",
       "      <td>False</td>\n",
       "      <td>...</td>\n",
       "      <td>approved</td>\n",
       "      <td>1</td>\n",
       "      <td>0</td>\n",
       "      <td>News</td>\n",
       "      <td>1524594252</td>\n",
       "      <td>Matt Brand</td>\n",
       "      <td>64324866.0</td>\n",
       "      <td>Williamsburg, Brooklyn</td>\n",
       "      <td>NaN</td>\n",
       "      <td>-0.155556</td>\n",
       "    </tr>\n",
       "    <tr>\n",
       "      <th>2</th>\n",
       "      <td>1524594250</td>\n",
       "      <td>5adf6684068401528a2aa69b</td>\n",
       "      <td>781.0</td>\n",
       "      <td>I would not want to play chess against these c...</td>\n",
       "      <td>26853677.0</td>\n",
       "      <td>26853677.0</td>\n",
       "      <td>comment</td>\n",
       "      <td>1524593032</td>\n",
       "      <td>1.0</td>\n",
       "      <td>False</td>\n",
       "      <td>...</td>\n",
       "      <td>approved</td>\n",
       "      <td>1</td>\n",
       "      <td>0</td>\n",
       "      <td>News</td>\n",
       "      <td>1524594250</td>\n",
       "      <td>Joseph</td>\n",
       "      <td>78105093.0</td>\n",
       "      <td>Fayetteville, AR</td>\n",
       "      <td>NaN</td>\n",
       "      <td>0.000000</td>\n",
       "    </tr>\n",
       "    <tr>\n",
       "      <th>3</th>\n",
       "      <td>1524593431</td>\n",
       "      <td>5adf6684068401528a2aa69b</td>\n",
       "      <td>781.0</td>\n",
       "      <td>Could the cheerleaders join the Actors' Equity...</td>\n",
       "      <td>26853784.0</td>\n",
       "      <td>26853784.0</td>\n",
       "      <td>comment</td>\n",
       "      <td>1524593426</td>\n",
       "      <td>1.0</td>\n",
       "      <td>False</td>\n",
       "      <td>...</td>\n",
       "      <td>approved</td>\n",
       "      <td>0</td>\n",
       "      <td>0</td>\n",
       "      <td>News</td>\n",
       "      <td>1524593431</td>\n",
       "      <td>Stephen</td>\n",
       "      <td>81939618.0</td>\n",
       "      <td>Phoenix, AZ</td>\n",
       "      <td>NaN</td>\n",
       "      <td>0.100000</td>\n",
       "    </tr>\n",
       "    <tr>\n",
       "      <th>4</th>\n",
       "      <td>1524595048</td>\n",
       "      <td>5adf653f068401528a2aa697</td>\n",
       "      <td>656.0</td>\n",
       "      <td>Seeking conclusions which support preconceived...</td>\n",
       "      <td>26854236.0</td>\n",
       "      <td>26854236.0</td>\n",
       "      <td>comment</td>\n",
       "      <td>1524595043</td>\n",
       "      <td>1.0</td>\n",
       "      <td>False</td>\n",
       "      <td>...</td>\n",
       "      <td>approved</td>\n",
       "      <td>1</td>\n",
       "      <td>0</td>\n",
       "      <td>News</td>\n",
       "      <td>1524595048</td>\n",
       "      <td>Paul Zorsky</td>\n",
       "      <td>58642997.0</td>\n",
       "      <td>Texas</td>\n",
       "      <td>NaN</td>\n",
       "      <td>0.012857</td>\n",
       "    </tr>\n",
       "  </tbody>\n",
       "</table>\n",
       "<p>5 rows × 31 columns</p>\n",
       "</div>"
      ],
      "text/plain": [
       "   approveDate                 articleID  articleWordCount  \\\n",
       "0   1524594282  5adf6684068401528a2aa69b             781.0   \n",
       "1   1524594252  5adf6684068401528a2aa69b             781.0   \n",
       "2   1524594250  5adf6684068401528a2aa69b             781.0   \n",
       "3   1524593431  5adf6684068401528a2aa69b             781.0   \n",
       "4   1524595048  5adf653f068401528a2aa697             656.0   \n",
       "\n",
       "                                         commentBody   commentID  \\\n",
       "0  How could the league possibly refuse this offe...  26853969.0   \n",
       "1  So then the execs can be like \"yeah...we will ...  26853699.0   \n",
       "2  I would not want to play chess against these c...  26853677.0   \n",
       "3  Could the cheerleaders join the Actors' Equity...  26853784.0   \n",
       "4  Seeking conclusions which support preconceived...  26854236.0   \n",
       "\n",
       "   commentSequence commentType  createDate  depth  editorsSelection  ...  \\\n",
       "0       26853969.0     comment  1524594011    1.0             False  ...   \n",
       "1       26853699.0     comment  1524593146    1.0             False  ...   \n",
       "2       26853677.0     comment  1524593032    1.0             False  ...   \n",
       "3       26853784.0     comment  1524593426    1.0             False  ...   \n",
       "4       26854236.0     comment  1524595043    1.0             False  ...   \n",
       "\n",
       "     status timespeople  trusted typeOfMaterial  updateDate  \\\n",
       "0  approved           1        0           News  1524594282   \n",
       "1  approved           1        0           News  1524594252   \n",
       "2  approved           1        0           News  1524594250   \n",
       "3  approved           0        0           News  1524593431   \n",
       "4  approved           1        0           News  1524595048   \n",
       "\n",
       "     userDisplayName      userID            userLocation  userTitle sentiment  \n",
       "0  Christopher Rillo  46566740.0           San Francisco        NaN  0.000000  \n",
       "1         Matt Brand  64324866.0  Williamsburg, Brooklyn        NaN -0.155556  \n",
       "2             Joseph  78105093.0        Fayetteville, AR        NaN  0.000000  \n",
       "3            Stephen  81939618.0             Phoenix, AZ        NaN  0.100000  \n",
       "4        Paul Zorsky  58642997.0                   Texas        NaN  0.012857  \n",
       "\n",
       "[5 rows x 31 columns]"
      ]
     },
     "execution_count": 111,
     "metadata": {},
     "output_type": "execute_result"
    }
   ],
   "source": [
    "# Drop all rows with empty comment bodies: \n",
    "a = comments[comments['commentBody'] == ''].index.to_list()\n",
    "for i in a: \n",
    "    comments.drop(index = [i], axis = 0, inplace = True)\n",
    "comments.head()"
   ]
  },
  {
   "cell_type": "code",
   "execution_count": 7,
   "metadata": {
    "ExecuteTime": {
     "end_time": "2019-04-07T02:18:09.862180Z",
     "start_time": "2019-04-07T02:16:05.697004Z"
    }
   },
   "outputs": [
    {
     "name": "stdout",
     "output_type": "stream",
     "text": [
      "Wall time: 2min 4s\n"
     ]
    }
   ],
   "source": [
    "%%time \n",
    "# Sentiment analysis: \n",
    "comments['sentiment'] = comments.commentBody.map(lambda text: TextBlob(text).sentiment.polarity)"
   ]
  },
  {
   "cell_type": "code",
   "execution_count": 9,
   "metadata": {
    "ExecuteTime": {
     "end_time": "2019-04-07T02:18:25.235515Z",
     "start_time": "2019-04-07T02:18:25.138300Z"
    }
   },
   "outputs": [
    {
     "data": {
      "text/plain": [
       "array(['Overseeing a hostile work environment?  Sounds perfectly will qualified for a job in or around the Trump administration.',\n",
       "       'The best people, folks. The best.',\n",
       "       '\"Nothing but the best people...\"*Sigh*',\n",
       "       'Yep, he is perfect for this do-as-I-say-not-as-I-do administration. ',\n",
       "       'VERY good question!'], dtype=object)"
      ]
     },
     "execution_count": 9,
     "metadata": {},
     "output_type": "execute_result"
    }
   ],
   "source": [
    "# Printing the 5 highest sentiment comments: \n",
    "high_sent = comments.nlargest(5, columns = ['sentiment'])\n",
    "high_sent['commentBody'].values"
   ]
  },
  {
   "cell_type": "code",
   "execution_count": 10,
   "metadata": {
    "ExecuteTime": {
     "end_time": "2019-04-07T02:18:26.079022Z",
     "start_time": "2019-04-07T02:18:26.008591Z"
    }
   },
   "outputs": [
    {
     "data": {
      "text/plain": [
       "array(['kakistocracy[kak-uh-stok-ruh-see]noun, plural kak·is·toc·ra·cies.government by the worst persons; a form of government in which the worst persons are in power.',\n",
       "       'How insulting to our veterans. ',\n",
       "       'Oh my god.  What an ordeal. Terrifying.  ',\n",
       "       'Tennessee may be among the worst states for allowing unfettered access to guns, but there is nowhere in America that a person can escape this scourge.',\n",
       "       'Evil people with killer physic powers?  No guns needed, I have not heard that one.'],\n",
       "      dtype=object)"
      ]
     },
     "metadata": {},
     "output_type": "display_data"
    }
   ],
   "source": [
    "# Printing the 5 lowest sentiment comments: \n",
    "\n",
    "low_sent = comments.nsmallest(5, columns = ['sentiment'])\n",
    "display(low_sent['commentBody'].values )"
   ]
  },
  {
   "cell_type": "code",
   "execution_count": 11,
   "metadata": {
    "ExecuteTime": {
     "end_time": "2019-04-07T02:18:27.631225Z",
     "start_time": "2019-04-07T02:18:27.355067Z"
    }
   },
   "outputs": [
    {
     "name": "stderr",
     "output_type": "stream",
     "text": [
      "C:\\Users\\timrc\\AppData\\Local\\Continuum\\anaconda3\\lib\\site-packages\\scipy\\stats\\stats.py:1713: FutureWarning: Using a non-tuple sequence for multidimensional indexing is deprecated; use `arr[tuple(seq)]` instead of `arr[seq]`. In the future this will be interpreted as an array index, `arr[np.array(seq)]`, which will result either in an error or a different result.\n",
      "  return np.add.reduce(sorted[indexer] * weights, axis=axis) / sumval\n"
     ]
    },
    {
     "data": {
      "text/plain": [
       "<matplotlib.axes._subplots.AxesSubplot at 0x2100066ca90>"
      ]
     },
     "execution_count": 11,
     "metadata": {},
     "output_type": "execute_result"
    },
    {
     "data": {
      "image/png": "[encoded data removed]",
      "text/plain": [
       "<Figure size 720x432 with 1 Axes>"
      ]
     },
     "metadata": {
      "needs_background": "light"
     },
     "output_type": "display_data"
    }
   ],
   "source": [
    "# Plot sentiment distribution: \n",
    "\n",
    "plt.figure(figsize = (10, 6))\n",
    "plt.title('Distribution of Sentiment')\n",
    "sns.distplot(comments['sentiment'])"
   ]
  },
  {
   "cell_type": "code",
   "execution_count": 12,
   "metadata": {
    "ExecuteTime": {
     "end_time": "2019-04-07T02:18:29.653971Z",
     "start_time": "2019-04-07T02:18:29.373761Z"
    }
   },
   "outputs": [
    {
     "name": "stderr",
     "output_type": "stream",
     "text": [
      "C:\\Users\\timrc\\AppData\\Local\\Continuum\\anaconda3\\lib\\site-packages\\scipy\\stats\\stats.py:1713: FutureWarning: Using a non-tuple sequence for multidimensional indexing is deprecated; use `arr[tuple(seq)]` instead of `arr[seq]`. In the future this will be interpreted as an array index, `arr[np.array(seq)]`, which will result either in an error or a different result.\n",
      "  return np.add.reduce(sorted[indexer] * weights, axis=axis) / sumval\n"
     ]
    },
    {
     "data": {
      "text/plain": [
       "<matplotlib.axes._subplots.AxesSubplot at 0x21000618c18>"
      ]
     },
     "execution_count": 12,
     "metadata": {},
     "output_type": "execute_result"
    },
    {
     "data": {
      "image/png": "[encoded data removed]",
      "text/plain": [
       "<Figure size 720x576 with 1 Axes>"
      ]
     },
     "metadata": {
      "needs_background": "light"
     },
     "output_type": "display_data"
    }
   ],
   "source": [
    "# Plot distribution of recommendations: \n",
    "\n",
    "plt.figure(figsize = (10, 8))\n",
    "plt.title(\"Distribution of Recommendations\")\n",
    "sns.distplot(comments.recommendations)"
   ]
  },
  {
   "cell_type": "code",
   "execution_count": 13,
   "metadata": {
    "ExecuteTime": {
     "end_time": "2019-04-07T02:18:36.125460Z",
     "start_time": "2019-04-07T02:18:33.053734Z"
    }
   },
   "outputs": [
    {
     "name": "stderr",
     "output_type": "stream",
     "text": [
      "C:\\Users\\timrc\\AppData\\Local\\Continuum\\anaconda3\\lib\\site-packages\\scipy\\stats\\stats.py:1713: FutureWarning: Using a non-tuple sequence for multidimensional indexing is deprecated; use `arr[tuple(seq)]` instead of `arr[seq]`. In the future this will be interpreted as an array index, `arr[np.array(seq)]`, which will result either in an error or a different result.\n",
      "  return np.add.reduce(sorted[indexer] * weights, axis=axis) / sumval\n"
     ]
    },
    {
     "data": {
      "text/plain": [
       "<seaborn.axisgrid.JointGrid at 0x2100067b5f8>"
      ]
     },
     "execution_count": 13,
     "metadata": {},
     "output_type": "execute_result"
    },
    {
     "data": {
      "image/png": "[encoded data removed]",
      "text/plain": [
       "<Figure size 432x432 with 3 Axes>"
      ]
     },
     "metadata": {
      "needs_background": "light"
     },
     "output_type": "display_data"
    }
   ],
   "source": [
    "# Plot Sentiment vs. Recommendations: \n",
    "\n",
    "sns.jointplot(comments.sentiment, comments.recommendations)"
   ]
  },
  {
   "cell_type": "code",
   "execution_count": 95,
   "metadata": {
    "ExecuteTime": {
     "end_time": "2019-04-07T20:46:52.003484Z",
     "start_time": "2019-04-07T20:46:51.999017Z"
    }
   },
   "outputs": [
    {
     "data": {
      "text/plain": [
       "26490"
      ]
     },
     "execution_count": 95,
     "metadata": {},
     "output_type": "execute_result"
    }
   ],
   "source": [
    "subset = round(len(comments['sentiment'])*.1) #The top 10% highest and lowest sentiment comments will be judged\n",
    "subset"
   ]
  },
  {
   "cell_type": "code",
   "execution_count": 96,
   "metadata": {
    "ExecuteTime": {
     "end_time": "2019-04-07T20:46:53.341519Z",
     "start_time": "2019-04-07T20:46:52.744903Z"
    }
   },
   "outputs": [],
   "source": [
    "high_sent = comments.nlargest(100, columns = ['sentiment'])\n",
    "low_sent = comments.nsmallest(100, columns = ['sentiment'])"
   ]
  },
  {
   "cell_type": "code",
   "execution_count": 97,
   "metadata": {
    "ExecuteTime": {
     "end_time": "2019-04-07T20:46:54.603379Z",
     "start_time": "2019-04-07T20:46:54.589987Z"
    }
   },
   "outputs": [],
   "source": [
    "import operator\n",
    "stopwords = nltk.corpus.stopwords.words('english')\n",
    "stemmer = nltk.stem.snowball.EnglishStemmer()"
   ]
  },
  {
   "cell_type": "code",
   "execution_count": 98,
   "metadata": {
    "ExecuteTime": {
     "end_time": "2019-04-07T20:46:55.448868Z",
     "start_time": "2019-04-07T20:46:55.429498Z"
    }
   },
   "outputs": [
    {
     "name": "stdout",
     "output_type": "stream",
     "text": [
      "Wall time: 13.9 ms\n"
     ]
    }
   ],
   "source": [
    "%%time\n",
    "words = []\n",
    "wordlist = []\n",
    "highwordcount = {}\n",
    "for comment in high_sent['commentBody']: #For loop to tokenize, remove punctuation and stopwords and to stem words\n",
    "    toks = nltk.wordpunct_tokenize(comment)\n",
    "    words.append([stemmer.stem(t.lower()) for t in toks if (t not in string.punctuation and t.lower() not in stopwords)])\n",
    "for sublist in words: #For loop to make a list of lists into a list\n",
    "    for item in sublist:\n",
    "        wordlist.append(item)"
   ]
  },
  {
   "cell_type": "code",
   "execution_count": 99,
   "metadata": {
    "ExecuteTime": {
     "end_time": "2019-04-07T20:46:57.389400Z",
     "start_time": "2019-04-07T20:46:57.365591Z"
    }
   },
   "outputs": [
    {
     "name": "stdout",
     "output_type": "stream",
     "text": [
      "Wall time: 19.3 ms\n"
     ]
    }
   ],
   "source": [
    "%%time\n",
    "words2 = []\n",
    "wordlist2 = []\n",
    "lowwordcount = {}\n",
    "for comment2 in low_sent['commentBody']:\n",
    "    toks2 = nltk.wordpunct_tokenize(comment2)\n",
    "    words2.append([stemmer.stem(t.lower()) for t in toks2 if (t not in string.punctuation and t.lower() not in stopwords)])\n",
    "for sublist2 in words2:\n",
    "    for item2 in sublist2:\n",
    "        wordlist2.append(item2)\n"
   ]
  },
  {
   "cell_type": "code",
   "execution_count": 100,
   "metadata": {
    "ExecuteTime": {
     "end_time": "2019-04-07T20:46:59.924039Z",
     "start_time": "2019-04-07T20:46:59.898744Z"
    }
   },
   "outputs": [
    {
     "name": "stdout",
     "output_type": "stream",
     "text": [
      "467\n",
      "752\n"
     ]
    }
   ],
   "source": [
    "#Remove common words between the two lists\n",
    "uniquehighsent = [x for x in wordlist if x not in wordlist2]\n",
    "uniquelowsent = [x for x in wordlist2 if x not in wordlist]\n",
    "print(len(uniquehighsent))\n",
    "print(len(uniquelowsent))"
   ]
  },
  {
   "cell_type": "code",
   "execution_count": 101,
   "metadata": {
    "ExecuteTime": {
     "end_time": "2019-04-07T20:47:02.621048Z",
     "start_time": "2019-04-07T20:47:02.617575Z"
    }
   },
   "outputs": [],
   "source": [
    "highs = {w: 1 if w not in highwordcount and not highwordcount.update({w: 1}) #Makes a dictionary with words as keys and counts as values\n",
    "                  else highwordcount[w] + 1\n",
    "                  if not highwordcount.update({w: highwordcount[w] + 1}) else 1 for w in uniquehighsent}"
   ]
  },
  {
   "cell_type": "code",
   "execution_count": 102,
   "metadata": {
    "ExecuteTime": {
     "end_time": "2019-04-07T20:47:03.508330Z",
     "start_time": "2019-04-07T20:47:03.503863Z"
    }
   },
   "outputs": [],
   "source": [
    "lows = {x: 1 if x not in lowwordcount and not lowwordcount.update({x: 1})\n",
    "                  else lowwordcount[x] + 1\n",
    "                  if not lowwordcount.update({x: lowwordcount[x] + 1}) else 1 for x in uniquelowsent}"
   ]
  },
  {
   "cell_type": "code",
   "execution_count": 103,
   "metadata": {
    "ExecuteTime": {
     "end_time": "2019-04-07T20:47:06.695339Z",
     "start_time": "2019-04-07T20:47:06.691866Z"
    }
   },
   "outputs": [],
   "source": [
    "sorted_highwordcount = list(reversed(sorted(highwordcount.items(), key=operator.itemgetter(1)))) #Sorts the dictionary by values\n",
    "sorted_lowwordcount = list(reversed(sorted(lowwordcount.items(), key=operator.itemgetter(1))))"
   ]
  },
  {
   "cell_type": "code",
   "execution_count": 104,
   "metadata": {
    "ExecuteTime": {
     "end_time": "2019-04-07T20:47:07.880461Z",
     "start_time": "2019-04-07T20:47:07.875007Z"
    }
   },
   "outputs": [
    {
     "data": {
      "text/plain": [
       "[('best', 32),\n",
       " ('excel', 17),\n",
       " ('perfect', 15),\n",
       " ('great', 9),\n",
       " ('articl', 7),\n",
       " ('point', 6),\n",
       " ('mueller', 5),\n",
       " ('happi', 5),\n",
       " ('rate', 4),\n",
       " ('report', 4),\n",
       " ('brilliant', 4),\n",
       " ('greatest', 4),\n",
       " ('job', 4),\n",
       " ('matter', 3),\n",
       " ('.\"', 3)]"
      ]
     },
     "execution_count": 104,
     "metadata": {},
     "output_type": "execute_result"
    }
   ],
   "source": [
    "sorted_highwordcount[:15]"
   ]
  },
  {
   "cell_type": "code",
   "execution_count": 105,
   "metadata": {
    "ExecuteTime": {
     "end_time": "2019-04-07T20:47:13.535604Z",
     "start_time": "2019-04-07T20:47:13.532108Z"
    }
   },
   "outputs": [
    {
     "data": {
      "text/plain": [
       "[('worst', 28),\n",
       " ('terribl', 13),\n",
       " ('evil', 12),\n",
       " ('horribl', 9),\n",
       " ('pathet', 8),\n",
       " ('disgust', 8),\n",
       " ('comey', 7),\n",
       " ('run', 6),\n",
       " ('insan', 6),\n",
       " ('histori', 5),\n",
       " ('world', 5),\n",
       " ('nasti', 5),\n",
       " ('yes', 5),\n",
       " ('aw', 5),\n",
       " ('use', 5)]"
      ]
     },
     "execution_count": 105,
     "metadata": {},
     "output_type": "execute_result"
    }
   ],
   "source": [
    "sorted_lowwordcount[:15]"
   ]
  },
  {
   "cell_type": "code",
   "execution_count": 26,
   "metadata": {
    "ExecuteTime": {
     "end_time": "2019-04-07T02:18:58.591084Z",
     "start_time": "2019-04-07T02:18:58.587651Z"
    }
   },
   "outputs": [],
   "source": [
    "bestwords = list(zip(*sorted_highwordcount[:15])).pop(0)\n",
    "worstwords = list(zip(*sorted_lowwordcount[:15])).pop(0)"
   ]
  },
  {
   "cell_type": "code",
   "execution_count": 27,
   "metadata": {
    "ExecuteTime": {
     "end_time": "2019-04-07T02:19:01.906029Z",
     "start_time": "2019-04-07T02:19:01.901593Z"
    }
   },
   "outputs": [],
   "source": [
    "def word_freq(words,comment):\n",
    "    wrds=[]\n",
    "    toks = nltk.wordpunct_tokenize(comment)\n",
    "    wrds.append([stemmer.stem(t.lower()) for t in toks if (t not in string.punctuation and t.lower() not in stopwords)])\n",
    "    wlist = ' '.join(str(i) for i in wrds)\n",
    "    worddict = {}\n",
    "    if len(comment.split()) == 0:\n",
    "        return 0\n",
    "    else:\n",
    "        for word in words:\n",
    "            worddict[f\"freq_{word}\"] = wlist.count(word)/len(comment.split()) \n",
    "    return worddict\n"
   ]
  },
  {
   "cell_type": "code",
   "execution_count": 28,
   "metadata": {
    "ExecuteTime": {
     "end_time": "2019-04-07T02:22:31.023714Z",
     "start_time": "2019-04-07T02:19:36.259292Z"
    }
   },
   "outputs": [],
   "source": [
    "# Best word freq\n",
    "bestwordfreq = []\n",
    "for i in comments['commentBody']:\n",
    "    x = word_freq(bestwords,i)\n",
    "    bestwordfreq.append(x)\n",
    "bestwordfreq = pd.DataFrame(bestwordfreq)"
   ]
  },
  {
   "cell_type": "code",
   "execution_count": 73,
   "metadata": {
    "ExecuteTime": {
     "end_time": "2019-04-07T05:19:37.939079Z",
     "start_time": "2019-04-07T05:19:37.708925Z"
    }
   },
   "outputs": [
    {
     "data": {
      "text/html": [
       "<div>\n",
       "<style scoped>\n",
       "    .dataframe tbody tr th:only-of-type {\n",
       "        vertical-align: middle;\n",
       "    }\n",
       "\n",
       "    .dataframe tbody tr th {\n",
       "        vertical-align: top;\n",
       "    }\n",
       "\n",
       "    .dataframe thead th {\n",
       "        text-align: right;\n",
       "    }\n",
       "</style>\n",
       "<table border=\"1\" class=\"dataframe\">\n",
       "  <thead>\n",
       "    <tr style=\"text-align: right;\">\n",
       "      <th></th>\n",
       "      <th>freq_greatest</th>\n",
       "      <th>freq_happi</th>\n",
       "      <th>freq_job</th>\n",
       "      <th>freq_matter</th>\n",
       "      <th>freq_mueller</th>\n",
       "      <th>freq_perfect</th>\n",
       "      <th>freq_point</th>\n",
       "      <th>freq_rate</th>\n",
       "      <th>freq_report</th>\n",
       "      <th>articleWordCount</th>\n",
       "      <th>depth</th>\n",
       "      <th>Target</th>\n",
       "    </tr>\n",
       "  </thead>\n",
       "  <tbody>\n",
       "    <tr>\n",
       "      <th>0</th>\n",
       "      <td>0.0</td>\n",
       "      <td>0.0</td>\n",
       "      <td>0.0</td>\n",
       "      <td>0.0</td>\n",
       "      <td>0.0</td>\n",
       "      <td>0.0</td>\n",
       "      <td>0.0</td>\n",
       "      <td>0.0</td>\n",
       "      <td>0.0</td>\n",
       "      <td>781.0</td>\n",
       "      <td>1.0</td>\n",
       "      <td>False</td>\n",
       "    </tr>\n",
       "    <tr>\n",
       "      <th>1</th>\n",
       "      <td>0.0</td>\n",
       "      <td>0.0</td>\n",
       "      <td>0.0</td>\n",
       "      <td>0.0</td>\n",
       "      <td>0.0</td>\n",
       "      <td>0.0</td>\n",
       "      <td>0.0</td>\n",
       "      <td>0.0</td>\n",
       "      <td>0.0</td>\n",
       "      <td>781.0</td>\n",
       "      <td>1.0</td>\n",
       "      <td>False</td>\n",
       "    </tr>\n",
       "    <tr>\n",
       "      <th>2</th>\n",
       "      <td>0.0</td>\n",
       "      <td>0.0</td>\n",
       "      <td>0.0</td>\n",
       "      <td>0.0</td>\n",
       "      <td>0.0</td>\n",
       "      <td>0.0</td>\n",
       "      <td>0.0</td>\n",
       "      <td>0.0</td>\n",
       "      <td>0.0</td>\n",
       "      <td>781.0</td>\n",
       "      <td>1.0</td>\n",
       "      <td>False</td>\n",
       "    </tr>\n",
       "    <tr>\n",
       "      <th>3</th>\n",
       "      <td>0.0</td>\n",
       "      <td>0.0</td>\n",
       "      <td>0.0</td>\n",
       "      <td>0.0</td>\n",
       "      <td>0.0</td>\n",
       "      <td>0.0</td>\n",
       "      <td>0.0</td>\n",
       "      <td>0.0</td>\n",
       "      <td>0.0</td>\n",
       "      <td>781.0</td>\n",
       "      <td>1.0</td>\n",
       "      <td>False</td>\n",
       "    </tr>\n",
       "    <tr>\n",
       "      <th>4</th>\n",
       "      <td>0.0</td>\n",
       "      <td>0.0</td>\n",
       "      <td>0.0</td>\n",
       "      <td>0.0</td>\n",
       "      <td>0.0</td>\n",
       "      <td>0.0</td>\n",
       "      <td>0.0</td>\n",
       "      <td>0.0</td>\n",
       "      <td>0.0</td>\n",
       "      <td>656.0</td>\n",
       "      <td>1.0</td>\n",
       "      <td>False</td>\n",
       "    </tr>\n",
       "  </tbody>\n",
       "</table>\n",
       "</div>"
      ],
      "text/plain": [
       "   freq_greatest  freq_happi  freq_job  freq_matter  freq_mueller  \\\n",
       "0            0.0         0.0       0.0          0.0           0.0   \n",
       "1            0.0         0.0       0.0          0.0           0.0   \n",
       "2            0.0         0.0       0.0          0.0           0.0   \n",
       "3            0.0         0.0       0.0          0.0           0.0   \n",
       "4            0.0         0.0       0.0          0.0           0.0   \n",
       "\n",
       "   freq_perfect  freq_point  freq_rate  freq_report  articleWordCount  depth  \\\n",
       "0           0.0         0.0        0.0          0.0             781.0    1.0   \n",
       "1           0.0         0.0        0.0          0.0             781.0    1.0   \n",
       "2           0.0         0.0        0.0          0.0             781.0    1.0   \n",
       "3           0.0         0.0        0.0          0.0             781.0    1.0   \n",
       "4           0.0         0.0        0.0          0.0             656.0    1.0   \n",
       "\n",
       "   Target  \n",
       "0   False  \n",
       "1   False  \n",
       "2   False  \n",
       "3   False  \n",
       "4   False  "
      ]
     },
     "execution_count": 73,
     "metadata": {},
     "output_type": "execute_result"
    }
   ],
   "source": [
    "bestwordfreq.drop(bestwordfreq.columns[0], axis = 1, inplace = True)\n",
    "bestwordfreq['articleWordCount'] = comments.articleWordCount\n",
    "bestwordfreq['depth'] = comments.depth\n",
    "bestwordfreq['Target'] = comments.editorsSelection\n",
    "bestwordfreq.dropna(inplace = True)\n",
    "bestwordfreq.head()"
   ]
  },
  {
   "cell_type": "code",
   "execution_count": 148,
   "metadata": {
    "ExecuteTime": {
     "end_time": "2019-04-07T23:41:23.652857Z",
     "start_time": "2019-04-07T23:41:23.634040Z"
    }
   },
   "outputs": [],
   "source": [
    "x = bestwordfreq.drop(columns = ['Target'])\n",
    "y = bestwordfreq.Target"
   ]
  },
  {
   "cell_type": "code",
   "execution_count": 211,
   "metadata": {
    "ExecuteTime": {
     "end_time": "2019-04-08T00:37:36.826843Z",
     "start_time": "2019-04-08T00:37:07.653122Z"
    }
   },
   "outputs": [],
   "source": [
    "accuracy = []\n",
    "feature_imp = []\n",
    "y_ps = []\n",
    "truesums = []\n",
    "for i in range(200): \n",
    "    x_train, x_test, y_train, y_test = train_test_split(x, y, test_size = .30)\n",
    "    tree = DecisionTreeClassifier(max_depth = 10)\n",
    "    tree.fit(x_train, y_train.astype(int))\n",
    "    accuracy.append(tree.score(x_test, y_test.astype(int))) \n",
    "    feature_imp.append(tree.feature_importances_)\n",
    "    y_ps.append(tree.predict(x_test))\n",
    "    truesums.append(np.sum(tree.predict(x_test)))"
   ]
  },
  {
   "cell_type": "code",
   "execution_count": 123,
   "metadata": {
    "ExecuteTime": {
     "end_time": "2019-04-07T21:37:16.325506Z",
     "start_time": "2019-04-07T21:37:16.186598Z"
    }
   },
   "outputs": [
    {
     "data": {
      "image/png": "[encoded data removed]",
      "text/plain": [
       "<Figure size 864x360 with 1 Axes>"
      ]
     },
     "metadata": {
      "needs_background": "light"
     },
     "output_type": "display_data"
    },
    {
     "name": "stdout",
     "output_type": "stream",
     "text": [
      "Mean Accuracy = 0.9843240250179329Standard Deviation = 0.0003780276905044141\n"
     ]
    }
   ],
   "source": [
    "# Plotting the accuracy over each iteration: \n",
    "\n",
    "import matplotlib.pyplot as plt \n",
    "plt.figure(figsize = (12,5))\n",
    "plt.ylim(.90, 1)\n",
    "plt.title(\"Accuracy of Positive Decision Tree Classifier Over 200 Iterations\")\n",
    "plt.xlabel(\"Train/Test Iteration\")\n",
    "plt.ylabel(\"Accuracy\")\n",
    "plt.plot(accuracy)\n",
    "plt.show()\n",
    "\n",
    "mean_accuracy = np.mean(accuracy, axis = 0)\n",
    "deviation = np.std(accuracy, axis = 0)\n",
    "\n",
    "print(f'Mean Accuracy = {mean_accuracy}' + f'Standard Deviation = {deviation}') # accuracy/stdev over iterations "
   ]
  },
  {
   "cell_type": "code",
   "execution_count": 124,
   "metadata": {
    "ExecuteTime": {
     "end_time": "2019-04-07T21:37:24.273054Z",
     "start_time": "2019-04-07T21:37:24.119260Z"
    }
   },
   "outputs": [
    {
     "data": {
      "image/png": "[encoded data removed]",
      "text/plain": [
       "<Figure size 864x360 with 1 Axes>"
      ]
     },
     "metadata": {
      "needs_background": "light"
     },
     "output_type": "display_data"
    }
   ],
   "source": [
    "# Plotting Sorted Feature Importances for Decision Tree\n",
    "\n",
    "imps = np.mean(feature_imp, axis=0)\n",
    "I = np.argsort(imps)\n",
    "imps_sorted = imps[I]\n",
    "cols_sorted = x.columns[I]\n",
    "plt.figure(figsize=(12, 5))\n",
    "ax = plt.gca()\n",
    "ax.set_title(\"Average Relative Positive Feature Importance\", fontsize=24)\n",
    "ax.barh(cols_sorted, imps_sorted)\n",
    "ax.set_yticklabels(cols_sorted, fontsize=10)\n",
    "plt.show()"
   ]
  },
  {
   "cell_type": "code",
   "execution_count": 149,
   "metadata": {
    "ExecuteTime": {
     "end_time": "2019-04-07T23:45:16.967188Z",
     "start_time": "2019-04-07T23:41:32.870733Z"
    }
   },
   "outputs": [],
   "source": [
    "from sklearn.ensemble import RandomForestClassifier \n",
    "\n",
    "accuracy = []\n",
    "feature_imp = []\n",
    "for i in range(100): \n",
    "    x_train, x_test, y_train, y_test = train_test_split(x, y, test_size = .30)\n",
    "    forest = RandomForestClassifier(n_estimators = 10) \n",
    "    forest.fit(x_train, y_train.astype(int))\n",
    "    accuracy.append(forest.score(x_test, y_test.astype(int)))\n",
    "    feature_imp.append(forest.feature_importances_)"
   ]
  },
  {
   "cell_type": "code",
   "execution_count": 150,
   "metadata": {
    "ExecuteTime": {
     "end_time": "2019-04-07T23:45:19.815868Z",
     "start_time": "2019-04-07T23:45:19.685917Z"
    }
   },
   "outputs": [
    {
     "data": {
      "image/png": "[encoded data removed]",
      "text/plain": [
       "<Figure size 864x360 with 1 Axes>"
      ]
     },
     "metadata": {
      "needs_background": "light"
     },
     "output_type": "display_data"
    },
    {
     "name": "stdout",
     "output_type": "stream",
     "text": [
      "Mean Accuracy = 0.9840100424096748Standard Deviation = 0.0003891549517045396\n"
     ]
    }
   ],
   "source": [
    "# Plotting the accuracy over each iteration: \n",
    "\n",
    "import matplotlib.pyplot as plt \n",
    "plt.figure(figsize = (12,5))\n",
    "plt.ylim(.90, 1)\n",
    "plt.title(\"Accuracy of Positive Random Forest Classifier Over 100 Iterations\")\n",
    "plt.plot(accuracy)\n",
    "plt.show()\n",
    "\n",
    "mean_accuracy = np.mean(accuracy, axis = 0)\n",
    "deviation = np.std(accuracy, axis = 0)\n",
    "\n",
    "print(f'Mean Accuracy = {mean_accuracy}' + f'Standard Deviation = {deviation}') # accuracy/stdev over iterations "
   ]
  },
  {
   "cell_type": "code",
   "execution_count": 151,
   "metadata": {
    "ExecuteTime": {
     "end_time": "2019-04-07T23:45:25.991900Z",
     "start_time": "2019-04-07T23:45:25.854009Z"
    }
   },
   "outputs": [
    {
     "data": {
      "image/png": "[encoded data removed]",
      "text/plain": [
       "<Figure size 864x360 with 1 Axes>"
      ]
     },
     "metadata": {
      "needs_background": "light"
     },
     "output_type": "display_data"
    }
   ],
   "source": [
    "# Plotting Sorted Feature Importances for Decision Tree\n",
    "\n",
    "imps = np.mean(feature_imp, axis=0)\n",
    "I = np.argsort(imps)\n",
    "imps_sorted = imps[I]\n",
    "cols_sorted = x.columns[I]\n",
    "plt.figure(figsize=(12, 5))\n",
    "ax = plt.gca()\n",
    "ax.set_title(\"Average Relative Positive Feature Importance - RF\", fontsize=24)\n",
    "ax.barh(cols_sorted, imps_sorted)\n",
    "ax.set_yticklabels(cols_sorted, fontsize=10)\n",
    "plt.show()"
   ]
  },
  {
   "cell_type": "code",
   "execution_count": 52,
   "metadata": {
    "ExecuteTime": {
     "end_time": "2019-04-07T02:44:37.003098Z",
     "start_time": "2019-04-07T02:41:47.598230Z"
    }
   },
   "outputs": [],
   "source": [
    "# Worst word freq\n",
    "worstwordfreq = []\n",
    "for i in comments['commentBody']:\n",
    "    x = word_freq(worstwords,i)\n",
    "    worstwordfreq.append(x)\n",
    "worstwordfreq = pd.DataFrame(worstwordfreq)"
   ]
  },
  {
   "cell_type": "code",
   "execution_count": 136,
   "metadata": {
    "ExecuteTime": {
     "end_time": "2019-04-07T22:01:24.126369Z",
     "start_time": "2019-04-07T22:01:23.994924Z"
    }
   },
   "outputs": [
    {
     "data": {
      "text/html": [
       "<div>\n",
       "<style scoped>\n",
       "    .dataframe tbody tr th:only-of-type {\n",
       "        vertical-align: middle;\n",
       "    }\n",
       "\n",
       "    .dataframe tbody tr th {\n",
       "        vertical-align: top;\n",
       "    }\n",
       "\n",
       "    .dataframe thead th {\n",
       "        text-align: right;\n",
       "    }\n",
       "</style>\n",
       "<table border=\"1\" class=\"dataframe\">\n",
       "  <thead>\n",
       "    <tr style=\"text-align: right;\">\n",
       "      <th></th>\n",
       "      <th>freq_aw</th>\n",
       "      <th>freq_comey</th>\n",
       "      <th>freq_disgust</th>\n",
       "      <th>freq_evil</th>\n",
       "      <th>freq_histori</th>\n",
       "      <th>freq_horribl</th>\n",
       "      <th>freq_insan</th>\n",
       "      <th>freq_nasti</th>\n",
       "      <th>freq_pathet</th>\n",
       "      <th>freq_run</th>\n",
       "      <th>freq_terribl</th>\n",
       "      <th>freq_use</th>\n",
       "      <th>freq_world</th>\n",
       "      <th>freq_worst</th>\n",
       "      <th>freq_yes</th>\n",
       "      <th>articleWordCount</th>\n",
       "      <th>depth</th>\n",
       "      <th>Target</th>\n",
       "    </tr>\n",
       "  </thead>\n",
       "  <tbody>\n",
       "    <tr>\n",
       "      <th>0</th>\n",
       "      <td>0.000000</td>\n",
       "      <td>0.0</td>\n",
       "      <td>0.0</td>\n",
       "      <td>0.0</td>\n",
       "      <td>0.0</td>\n",
       "      <td>0.0</td>\n",
       "      <td>0.0</td>\n",
       "      <td>0.0</td>\n",
       "      <td>0.0</td>\n",
       "      <td>0.0</td>\n",
       "      <td>0.0</td>\n",
       "      <td>0.000000</td>\n",
       "      <td>0.0</td>\n",
       "      <td>0.0</td>\n",
       "      <td>0.0</td>\n",
       "      <td>781.0</td>\n",
       "      <td>1.0</td>\n",
       "      <td>False</td>\n",
       "    </tr>\n",
       "    <tr>\n",
       "      <th>1</th>\n",
       "      <td>0.000000</td>\n",
       "      <td>0.0</td>\n",
       "      <td>0.0</td>\n",
       "      <td>0.0</td>\n",
       "      <td>0.0</td>\n",
       "      <td>0.0</td>\n",
       "      <td>0.0</td>\n",
       "      <td>0.0</td>\n",
       "      <td>0.0</td>\n",
       "      <td>0.0</td>\n",
       "      <td>0.0</td>\n",
       "      <td>0.000000</td>\n",
       "      <td>0.0</td>\n",
       "      <td>0.0</td>\n",
       "      <td>0.0</td>\n",
       "      <td>781.0</td>\n",
       "      <td>1.0</td>\n",
       "      <td>False</td>\n",
       "    </tr>\n",
       "    <tr>\n",
       "      <th>2</th>\n",
       "      <td>0.083333</td>\n",
       "      <td>0.0</td>\n",
       "      <td>0.0</td>\n",
       "      <td>0.0</td>\n",
       "      <td>0.0</td>\n",
       "      <td>0.0</td>\n",
       "      <td>0.0</td>\n",
       "      <td>0.0</td>\n",
       "      <td>0.0</td>\n",
       "      <td>0.0</td>\n",
       "      <td>0.0</td>\n",
       "      <td>0.000000</td>\n",
       "      <td>0.0</td>\n",
       "      <td>0.0</td>\n",
       "      <td>0.0</td>\n",
       "      <td>781.0</td>\n",
       "      <td>1.0</td>\n",
       "      <td>False</td>\n",
       "    </tr>\n",
       "    <tr>\n",
       "      <th>3</th>\n",
       "      <td>0.000000</td>\n",
       "      <td>0.0</td>\n",
       "      <td>0.0</td>\n",
       "      <td>0.0</td>\n",
       "      <td>0.0</td>\n",
       "      <td>0.0</td>\n",
       "      <td>0.0</td>\n",
       "      <td>0.0</td>\n",
       "      <td>0.0</td>\n",
       "      <td>0.0</td>\n",
       "      <td>0.0</td>\n",
       "      <td>0.000000</td>\n",
       "      <td>0.0</td>\n",
       "      <td>0.0</td>\n",
       "      <td>0.0</td>\n",
       "      <td>781.0</td>\n",
       "      <td>1.0</td>\n",
       "      <td>False</td>\n",
       "    </tr>\n",
       "    <tr>\n",
       "      <th>4</th>\n",
       "      <td>0.000000</td>\n",
       "      <td>0.0</td>\n",
       "      <td>0.0</td>\n",
       "      <td>0.0</td>\n",
       "      <td>0.0</td>\n",
       "      <td>0.0</td>\n",
       "      <td>0.0</td>\n",
       "      <td>0.0</td>\n",
       "      <td>0.0</td>\n",
       "      <td>0.0</td>\n",
       "      <td>0.0</td>\n",
       "      <td>0.011236</td>\n",
       "      <td>0.0</td>\n",
       "      <td>0.0</td>\n",
       "      <td>0.0</td>\n",
       "      <td>656.0</td>\n",
       "      <td>1.0</td>\n",
       "      <td>False</td>\n",
       "    </tr>\n",
       "  </tbody>\n",
       "</table>\n",
       "</div>"
      ],
      "text/plain": [
       "    freq_aw  freq_comey  freq_disgust  freq_evil  freq_histori  freq_horribl  \\\n",
       "0  0.000000         0.0           0.0        0.0           0.0           0.0   \n",
       "1  0.000000         0.0           0.0        0.0           0.0           0.0   \n",
       "2  0.083333         0.0           0.0        0.0           0.0           0.0   \n",
       "3  0.000000         0.0           0.0        0.0           0.0           0.0   \n",
       "4  0.000000         0.0           0.0        0.0           0.0           0.0   \n",
       "\n",
       "   freq_insan  freq_nasti  freq_pathet  freq_run  freq_terribl  freq_use  \\\n",
       "0         0.0         0.0          0.0       0.0           0.0  0.000000   \n",
       "1         0.0         0.0          0.0       0.0           0.0  0.000000   \n",
       "2         0.0         0.0          0.0       0.0           0.0  0.000000   \n",
       "3         0.0         0.0          0.0       0.0           0.0  0.000000   \n",
       "4         0.0         0.0          0.0       0.0           0.0  0.011236   \n",
       "\n",
       "   freq_world  freq_worst  freq_yes  articleWordCount  depth  Target  \n",
       "0         0.0         0.0       0.0             781.0    1.0   False  \n",
       "1         0.0         0.0       0.0             781.0    1.0   False  \n",
       "2         0.0         0.0       0.0             781.0    1.0   False  \n",
       "3         0.0         0.0       0.0             781.0    1.0   False  \n",
       "4         0.0         0.0       0.0             656.0    1.0   False  "
      ]
     },
     "execution_count": 136,
     "metadata": {},
     "output_type": "execute_result"
    }
   ],
   "source": [
    "worstwordfreq['articleWordCount'] = comments.articleWordCount\n",
    "worstwordfreq['depth'] = comments.depth\n",
    "worstwordfreq['Target'] = comments.editorsSelection\n",
    "worstwordfreq.dropna(inplace = True)\n",
    "worstwordfreq.head()"
   ]
  },
  {
   "cell_type": "code",
   "execution_count": 137,
   "metadata": {
    "ExecuteTime": {
     "end_time": "2019-04-07T22:01:30.008622Z",
     "start_time": "2019-04-07T22:01:29.986304Z"
    }
   },
   "outputs": [],
   "source": [
    "x = worstwordfreq.drop(columns = ['Target'])\n",
    "y = worstwordfreq.Target"
   ]
  },
  {
   "cell_type": "code",
   "execution_count": 138,
   "metadata": {
    "ExecuteTime": {
     "end_time": "2019-04-07T22:02:56.221798Z",
     "start_time": "2019-04-07T22:01:32.948226Z"
    }
   },
   "outputs": [],
   "source": [
    "accuracy = []\n",
    "feature_imp = []\n",
    "y_ps = []\n",
    "for i in range(200): \n",
    "    x_train, x_test, y_train, y_test = train_test_split(x, y, test_size = .30)\n",
    "    tree = DecisionTreeClassifier(max_depth = 10)\n",
    "    tree.fit(x_train, y_train.astype(int))\n",
    "    accuracy.append(tree.score(x_test, y_test.astype(int))) \n",
    "    feature_imp.append(tree.feature_importances_)\n",
    "    y_ps.append(tree.predict(x_test))"
   ]
  },
  {
   "cell_type": "code",
   "execution_count": 143,
   "metadata": {
    "ExecuteTime": {
     "end_time": "2019-04-07T22:13:35.180963Z",
     "start_time": "2019-04-07T22:13:35.055445Z"
    },
    "scrolled": true
   },
   "outputs": [
    {
     "data": {
      "image/png": "[encoded data removed]",
      "text/plain": [
       "<Figure size 864x360 with 1 Axes>"
      ]
     },
     "metadata": {
      "needs_background": "light"
     },
     "output_type": "display_data"
    },
    {
     "name": "stdout",
     "output_type": "stream",
     "text": [
      "Mean Accuracy = 0.9836910260121061Standard Deviation = 0.000391965112621466\n"
     ]
    }
   ],
   "source": [
    "# Plotting the accuracy over each iteration: \n",
    "\n",
    "import matplotlib.pyplot as plt \n",
    "plt.figure(figsize = (12,5))\n",
    "plt.ylim(.90, 1)\n",
    "plt.title(\"Accuracy of Negative Decision Tree Classifier Over 100 Iterations\")\n",
    "plt.plot(accuracy)\n",
    "plt.show()\n",
    "\n",
    "mean_accuracy = np.mean(accuracy, axis = 0)\n",
    "deviation = np.std(accuracy, axis = 0)\n",
    "\n",
    "print(f'Mean Accuracy = {mean_accuracy}' + f'Standard Deviation = {deviation}') # accuracy/stdev over iterations "
   ]
  },
  {
   "cell_type": "code",
   "execution_count": 140,
   "metadata": {
    "ExecuteTime": {
     "end_time": "2019-04-07T22:03:07.730502Z",
     "start_time": "2019-04-07T22:03:07.564341Z"
    }
   },
   "outputs": [
    {
     "data": {
      "image/png": "[encoded data removed]",
      "text/plain": [
       "<Figure size 864x360 with 1 Axes>"
      ]
     },
     "metadata": {
      "needs_background": "light"
     },
     "output_type": "display_data"
    }
   ],
   "source": [
    "# Plotting Sorted Feature Importances for Decision Tree\n",
    "\n",
    "imps = np.mean(feature_imp, axis=0)\n",
    "I = np.argsort(imps)\n",
    "imps_sorted = imps[I]\n",
    "cols_sorted = x.columns[I]\n",
    "plt.figure(figsize=(12, 5))\n",
    "ax = plt.gca()\n",
    "ax.set_title(\"Average Relative Negative Feature Importance\", fontsize=24)\n",
    "ax.barh(cols_sorted, imps_sorted)\n",
    "ax.set_yticklabels(cols_sorted, fontsize=10)\n",
    "plt.show()"
   ]
  },
  {
   "cell_type": "code",
   "execution_count": 144,
   "metadata": {
    "ExecuteTime": {
     "end_time": "2019-04-07T23:36:57.272393Z",
     "start_time": "2019-04-07T23:32:21.533745Z"
    }
   },
   "outputs": [],
   "source": [
    "from sklearn.ensemble import RandomForestClassifier \n",
    "\n",
    "accuracy = []\n",
    "feature_imp = []\n",
    "for i in range(100): \n",
    "    x_train, x_test, y_train, y_test = train_test_split(x, y, test_size = .30)\n",
    "    forest = RandomForestClassifier(n_estimators = 10) \n",
    "    forest.fit(x_train, y_train.astype(int))\n",
    "    accuracy.append(forest.score(x_test, y_test.astype(int)))\n",
    "    feature_imp.append(forest.feature_importances_)"
   ]
  },
  {
   "cell_type": "code",
   "execution_count": 145,
   "metadata": {
    "ExecuteTime": {
     "end_time": "2019-04-07T23:37:25.619466Z",
     "start_time": "2019-04-07T23:37:25.490174Z"
    }
   },
   "outputs": [
    {
     "data": {
      "image/png": "[encoded data removed]",
      "text/plain": [
       "<Figure size 864x360 with 1 Axes>"
      ]
     },
     "metadata": {
      "needs_background": "light"
     },
     "output_type": "display_data"
    },
    {
     "name": "stdout",
     "output_type": "stream",
     "text": [
      "Mean Accuracy = 0.9836691290286045Standard Deviation = 0.000389507236550285\n"
     ]
    }
   ],
   "source": [
    "# Plotting the accuracy over each iteration: \n",
    "\n",
    "import matplotlib.pyplot as plt \n",
    "plt.figure(figsize = (12,5))\n",
    "plt.ylim(.90, 1)\n",
    "plt.title(\"Accuracy of Negative Random Forest Classifier Over 100 Iterations\")\n",
    "plt.xlabel(\"Train/Test Iteration\")\n",
    "plt.ylabel(\"Accuracy\")\n",
    "plt.plot(accuracy)\n",
    "plt.show()\n",
    "\n",
    "mean_accuracy = np.mean(accuracy, axis = 0)\n",
    "deviation = np.std(accuracy, axis = 0)\n",
    "\n",
    "print(f'Mean Accuracy = {mean_accuracy}' + f'Standard Deviation = {deviation}') # accuracy/stdev over iterations "
   ]
  },
  {
   "cell_type": "code",
   "execution_count": 146,
   "metadata": {
    "ExecuteTime": {
     "end_time": "2019-04-07T23:37:34.117517Z",
     "start_time": "2019-04-07T23:37:33.942963Z"
    }
   },
   "outputs": [
    {
     "data": {
      "image/png": "[encoded data removed]",
      "text/plain": [
       "<Figure size 864x360 with 1 Axes>"
      ]
     },
     "metadata": {
      "needs_background": "light"
     },
     "output_type": "display_data"
    }
   ],
   "source": [
    "# Plotting Sorted Feature Importances for Random Forest: \n",
    "\n",
    "imps = np.mean(feature_imp, axis=0)\n",
    "I = np.argsort(imps)\n",
    "imps_sorted = imps[I]\n",
    "cols_sorted = x.columns[I]\n",
    "plt.figure(figsize=(12, 5))\n",
    "ax = plt.gca()\n",
    "ax.set_title(\"Average Relative Negative Feature Importance - RF\", fontsize=24)\n",
    "ax.barh(cols_sorted, imps_sorted)\n",
    "ax.set_yticklabels(cols_sorted, fontsize=10)\n",
    "plt.show()"
   ]
  },
  {
   "cell_type": "code",
   "execution_count": 156,
   "metadata": {
    "ExecuteTime": {
     "end_time": "2019-04-08T00:05:38.186460Z",
     "start_time": "2019-04-08T00:05:38.145259Z"
    }
   },
   "outputs": [
    {
     "data": {
      "text/html": [
       "<div>\n",
       "<style scoped>\n",
       "    .dataframe tbody tr th:only-of-type {\n",
       "        vertical-align: middle;\n",
       "    }\n",
       "\n",
       "    .dataframe tbody tr th {\n",
       "        vertical-align: top;\n",
       "    }\n",
       "\n",
       "    .dataframe thead th {\n",
       "        text-align: right;\n",
       "    }\n",
       "</style>\n",
       "<table border=\"1\" class=\"dataframe\">\n",
       "  <thead>\n",
       "    <tr style=\"text-align: right;\">\n",
       "      <th></th>\n",
       "      <th>articleWordCount</th>\n",
       "      <th>freq_point</th>\n",
       "      <th>freq_job</th>\n",
       "      <th>Target</th>\n",
       "      <th>freq_aw</th>\n",
       "      <th>freq_use</th>\n",
       "    </tr>\n",
       "  </thead>\n",
       "  <tbody>\n",
       "    <tr>\n",
       "      <th>0</th>\n",
       "      <td>781.0</td>\n",
       "      <td>0.0</td>\n",
       "      <td>0.0</td>\n",
       "      <td>False</td>\n",
       "      <td>0.000000</td>\n",
       "      <td>0.000000</td>\n",
       "    </tr>\n",
       "    <tr>\n",
       "      <th>1</th>\n",
       "      <td>781.0</td>\n",
       "      <td>0.0</td>\n",
       "      <td>0.0</td>\n",
       "      <td>False</td>\n",
       "      <td>0.000000</td>\n",
       "      <td>0.000000</td>\n",
       "    </tr>\n",
       "    <tr>\n",
       "      <th>2</th>\n",
       "      <td>781.0</td>\n",
       "      <td>0.0</td>\n",
       "      <td>0.0</td>\n",
       "      <td>False</td>\n",
       "      <td>0.083333</td>\n",
       "      <td>0.000000</td>\n",
       "    </tr>\n",
       "    <tr>\n",
       "      <th>3</th>\n",
       "      <td>781.0</td>\n",
       "      <td>0.0</td>\n",
       "      <td>0.0</td>\n",
       "      <td>False</td>\n",
       "      <td>0.000000</td>\n",
       "      <td>0.000000</td>\n",
       "    </tr>\n",
       "    <tr>\n",
       "      <th>4</th>\n",
       "      <td>656.0</td>\n",
       "      <td>0.0</td>\n",
       "      <td>0.0</td>\n",
       "      <td>False</td>\n",
       "      <td>0.000000</td>\n",
       "      <td>0.011236</td>\n",
       "    </tr>\n",
       "  </tbody>\n",
       "</table>\n",
       "</div>"
      ],
      "text/plain": [
       "   articleWordCount  freq_point  freq_job  Target   freq_aw  freq_use\n",
       "0             781.0         0.0       0.0   False  0.000000  0.000000\n",
       "1             781.0         0.0       0.0   False  0.000000  0.000000\n",
       "2             781.0         0.0       0.0   False  0.083333  0.000000\n",
       "3             781.0         0.0       0.0   False  0.000000  0.000000\n",
       "4             656.0         0.0       0.0   False  0.000000  0.011236"
      ]
     },
     "execution_count": 156,
     "metadata": {},
     "output_type": "execute_result"
    }
   ],
   "source": [
    "# To do: Make new DF of top 3 most important positive/negative \n",
    "\n",
    "df1 = bestwordfreq[['articleWordCount', 'freq_point', 'freq_job', 'Target']]\n",
    "df2 = worstwordfreq[['freq_aw', 'freq_use']]\n",
    "final_df = df1.join(df2)\n",
    "final_df.head()"
   ]
  },
  {
   "cell_type": "code",
   "execution_count": 213,
   "metadata": {
    "ExecuteTime": {
     "end_time": "2019-04-08T00:44:07.737340Z",
     "start_time": "2019-04-08T00:44:07.721499Z"
    }
   },
   "outputs": [],
   "source": [
    "x = final_df.drop(columns = 'Target')\n",
    "y = final_df.Target"
   ]
  },
  {
   "cell_type": "code",
   "execution_count": 214,
   "metadata": {
    "ExecuteTime": {
     "end_time": "2019-04-08T00:53:08.449083Z",
     "start_time": "2019-04-08T00:45:53.058897Z"
    }
   },
   "outputs": [],
   "source": [
    "accuracy_final = []\n",
    "feat_imp_final = [] \n",
    "truesums = []\n",
    "for i in range(100):\n",
    "    x_train, x_test, y_train, y_test = train_test_split(x, y, test_size = .30)\n",
    "    final_forest = RandomForestClassifier(n_estimators = 10)\n",
    "    final_forest.fit(x_train, y_train)\n",
    "    accuracy_final.append(final_forest.score(x_test, y_test))\n",
    "    feat_imp_final.append(final_forest.feature_importances_)\n",
    "    y_p = final_forest.predict(x_test)\n",
    "    truesums.append(sum(y_p))"
   ]
  },
  {
   "cell_type": "code",
   "execution_count": 215,
   "metadata": {
    "ExecuteTime": {
     "end_time": "2019-04-08T00:53:34.853405Z",
     "start_time": "2019-04-08T00:53:34.637639Z"
    }
   },
   "outputs": [
    {
     "data": {
      "image/png": "[encoded data removed]",
      "text/plain": [
       "<Figure size 864x360 with 1 Axes>"
      ]
     },
     "metadata": {
      "needs_background": "light"
     },
     "output_type": "display_data"
    },
    {
     "name": "stdout",
     "output_type": "stream",
     "text": [
      "Mean Accuracy = 0.9836987025408049Standard Deviation = 0.0003596402697865443\n"
     ]
    }
   ],
   "source": [
    "plt.figure(figsize = (12,5))\n",
    "plt.ylim(.90, 1)\n",
    "plt.title(\"Accuracy of Final Random Forest Classifier Over 100 Iterations\")\n",
    "plt.xlabel(\"Train/Test Iteration\")\n",
    "plt.ylabel(\"Accuracy\")\n",
    "plt.plot(accuracy_final)\n",
    "plt.show()\n",
    "\n",
    "mean_accuracy = np.mean(accuracy_final, axis = 0)\n",
    "deviation = np.std(accuracy_final, axis = 0)\n",
    "\n",
    "print(f'Mean Accuracy = {mean_accuracy}' + f'Standard Deviation = {deviation}') # accuracy/stdev over iterations "
   ]
  },
  {
   "cell_type": "code",
   "execution_count": 216,
   "metadata": {
    "ExecuteTime": {
     "end_time": "2019-04-08T00:53:42.118176Z",
     "start_time": "2019-04-08T00:53:41.914279Z"
    },
    "scrolled": true
   },
   "outputs": [
    {
     "data": {
      "image/png": "[encoded data removed]",
      "text/plain": [
       "<Figure size 864x360 with 1 Axes>"
      ]
     },
     "metadata": {
      "needs_background": "light"
     },
     "output_type": "display_data"
    }
   ],
   "source": [
    "# Plotting Sorted Feature Importances for Final Random Forest: \n",
    "\n",
    "imps = np.mean(feat_imp_final, axis=0)\n",
    "I = np.argsort(imps)\n",
    "imps_sorted = imps[I]\n",
    "cols_sorted = x.columns[I]\n",
    "plt.figure(figsize=(12, 5))\n",
    "ax = plt.gca()\n",
    "ax.set_title(\"Average Relative Negative Feature Importance - RF\", fontsize=24)\n",
    "ax.barh(cols_sorted, imps_sorted)\n",
    "ax.set_yticklabels(cols_sorted, fontsize=10)\n",
    "plt.show()"
   ]
  },
  {
   "cell_type": "code",
   "execution_count": 223,
   "metadata": {
    "ExecuteTime": {
     "end_time": "2019-04-08T00:57:47.791941Z",
     "start_time": "2019-04-08T00:57:47.604479Z"
    }
   },
   "outputs": [
    {
     "data": {
      "image/png": "[encoded data removed]",
      "text/plain": [
       "<Figure size 864x360 with 1 Axes>"
      ]
     },
     "metadata": {
      "needs_background": "light"
     },
     "output_type": "display_data"
    }
   ],
   "source": [
    "plt.figure(figsize = (12,5))\n",
    "plt.ylim(0, 100)\n",
    "plt.title(\"Number of Predicted Editor's Choices vs. Iteration\")\n",
    "plt.xlabel(\"Train/Test Iteration\")\n",
    "plt.ylabel(\"Number of Predicted Editor's Choices\")\n",
    "plt.plot(truesums)\n",
    "plt.show()"
   ]
  },
  {
   "cell_type": "markdown",
   "metadata": {},
   "source": [
    "### Final Validation - Using March 2018 Data"
   ]
  },
  {
   "cell_type": "code",
   "execution_count": 226,
   "metadata": {
    "ExecuteTime": {
     "end_time": "2019-04-08T04:23:04.296919Z",
     "start_time": "2019-04-08T04:22:57.312712Z"
    }
   },
   "outputs": [
    {
     "name": "stderr",
     "output_type": "stream",
     "text": [
      "C:\\Users\\timrc\\AppData\\Local\\Continuum\\anaconda3\\lib\\site-packages\\IPython\\core\\interactiveshell.py:2785: DtypeWarning: Columns (14,15,31) have mixed types. Specify dtype option on import or set low_memory=False.\n",
      "  interactivity=interactivity, compiler=compiler, result=result)\n"
     ]
    }
   ],
   "source": [
    "mar_comments = pd.read_csv('CommentsMarch2018.csv')\n",
    "mar_comments.commentBody = preprocess(feb_comments.commentBody)\n",
    "mar_comments.drop(['commentTitle', 'recommendedFlag', 'reportAbuseFlag', 'userURL'], axis=1, inplace=True)"
   ]
  },
  {
   "cell_type": "code",
   "execution_count": 227,
   "metadata": {
    "ExecuteTime": {
     "end_time": "2019-04-08T04:23:09.101715Z",
     "start_time": "2019-04-08T04:23:08.930599Z"
    }
   },
   "outputs": [
    {
     "data": {
      "text/html": [
       "<div>\n",
       "<style scoped>\n",
       "    .dataframe tbody tr th:only-of-type {\n",
       "        vertical-align: middle;\n",
       "    }\n",
       "\n",
       "    .dataframe tbody tr th {\n",
       "        vertical-align: top;\n",
       "    }\n",
       "\n",
       "    .dataframe thead th {\n",
       "        text-align: right;\n",
       "    }\n",
       "</style>\n",
       "<table border=\"1\" class=\"dataframe\">\n",
       "  <thead>\n",
       "    <tr style=\"text-align: right;\">\n",
       "      <th></th>\n",
       "      <th>approveDate</th>\n",
       "      <th>articleID</th>\n",
       "      <th>articleWordCount</th>\n",
       "      <th>commentBody</th>\n",
       "      <th>commentID</th>\n",
       "      <th>commentSequence</th>\n",
       "      <th>commentType</th>\n",
       "      <th>createDate</th>\n",
       "      <th>depth</th>\n",
       "      <th>editorsSelection</th>\n",
       "      <th>...</th>\n",
       "      <th>sharing</th>\n",
       "      <th>status</th>\n",
       "      <th>timespeople</th>\n",
       "      <th>trusted</th>\n",
       "      <th>updateDate</th>\n",
       "      <th>userDisplayName</th>\n",
       "      <th>userID</th>\n",
       "      <th>userLocation</th>\n",
       "      <th>userTitle</th>\n",
       "      <th>typeOfMaterial</th>\n",
       "    </tr>\n",
       "  </thead>\n",
       "  <tbody>\n",
       "    <tr>\n",
       "      <th>0</th>\n",
       "      <td>1520043821</td>\n",
       "      <td>5a974697410cf7000162e8a4</td>\n",
       "      <td>1207</td>\n",
       "      <td>If the choice is between mining for bitcoin - ...</td>\n",
       "      <td>26188943.0</td>\n",
       "      <td>26188943.0</td>\n",
       "      <td>comment</td>\n",
       "      <td>1520029445</td>\n",
       "      <td>1.0</td>\n",
       "      <td>0</td>\n",
       "      <td>...</td>\n",
       "      <td>1</td>\n",
       "      <td>approved</td>\n",
       "      <td>1</td>\n",
       "      <td>0</td>\n",
       "      <td>1520043821</td>\n",
       "      <td>Steve</td>\n",
       "      <td>46903103.0</td>\n",
       "      <td>Florida</td>\n",
       "      <td>NaN</td>\n",
       "      <td>News</td>\n",
       "    </tr>\n",
       "    <tr>\n",
       "      <th>1</th>\n",
       "      <td>1520043790</td>\n",
       "      <td>5a974697410cf7000162e8a4</td>\n",
       "      <td>1207</td>\n",
       "      <td>To me, Bitcoin (et al) appears to be an expens...</td>\n",
       "      <td>26189292.0</td>\n",
       "      <td>26189292.0</td>\n",
       "      <td>comment</td>\n",
       "      <td>1520031265</td>\n",
       "      <td>1.0</td>\n",
       "      <td>0</td>\n",
       "      <td>...</td>\n",
       "      <td>0</td>\n",
       "      <td>approved</td>\n",
       "      <td>1</td>\n",
       "      <td>0</td>\n",
       "      <td>1520043790</td>\n",
       "      <td>MyOpinion</td>\n",
       "      <td>82778.0</td>\n",
       "      <td>NYC</td>\n",
       "      <td>NaN</td>\n",
       "      <td>News</td>\n",
       "    </tr>\n",
       "    <tr>\n",
       "      <th>2</th>\n",
       "      <td>1520043789</td>\n",
       "      <td>5a974697410cf7000162e8a4</td>\n",
       "      <td>1207</td>\n",
       "      <td>Bitcoin is a pyramid scheme backed by nothing ...</td>\n",
       "      <td>26189645.0</td>\n",
       "      <td>26189645.0</td>\n",
       "      <td>comment</td>\n",
       "      <td>1520033172</td>\n",
       "      <td>1.0</td>\n",
       "      <td>0</td>\n",
       "      <td>...</td>\n",
       "      <td>0</td>\n",
       "      <td>approved</td>\n",
       "      <td>1</td>\n",
       "      <td>0</td>\n",
       "      <td>1520043789</td>\n",
       "      <td>Bert Gold</td>\n",
       "      <td>3013548.0</td>\n",
       "      <td>Frederick, Maryland</td>\n",
       "      <td>NaN</td>\n",
       "      <td>News</td>\n",
       "    </tr>\n",
       "    <tr>\n",
       "      <th>3</th>\n",
       "      <td>1520043788</td>\n",
       "      <td>5a974697410cf7000162e8a4</td>\n",
       "      <td>1207</td>\n",
       "      <td>What does it cost in energy to dig up and refi...</td>\n",
       "      <td>26189102.0</td>\n",
       "      <td>26189102.0</td>\n",
       "      <td>comment</td>\n",
       "      <td>1520030291</td>\n",
       "      <td>1.0</td>\n",
       "      <td>0</td>\n",
       "      <td>...</td>\n",
       "      <td>0</td>\n",
       "      <td>approved</td>\n",
       "      <td>1</td>\n",
       "      <td>0</td>\n",
       "      <td>1520043788</td>\n",
       "      <td>James Demers</td>\n",
       "      <td>70245222.0</td>\n",
       "      <td>Brooklyn</td>\n",
       "      <td>NaN</td>\n",
       "      <td>News</td>\n",
       "    </tr>\n",
       "    <tr>\n",
       "      <th>4</th>\n",
       "      <td>1520043787</td>\n",
       "      <td>5a974697410cf7000162e8a4</td>\n",
       "      <td>1207</td>\n",
       "      <td>You forgot to mention stock buybacks.</td>\n",
       "      <td>26189683.0</td>\n",
       "      <td>26189683.0</td>\n",
       "      <td>comment</td>\n",
       "      <td>1520033404</td>\n",
       "      <td>1.0</td>\n",
       "      <td>0</td>\n",
       "      <td>...</td>\n",
       "      <td>0</td>\n",
       "      <td>approved</td>\n",
       "      <td>1</td>\n",
       "      <td>0</td>\n",
       "      <td>1520043787</td>\n",
       "      <td>Bill</td>\n",
       "      <td>66424344.0</td>\n",
       "      <td>California</td>\n",
       "      <td>NaN</td>\n",
       "      <td>News</td>\n",
       "    </tr>\n",
       "  </tbody>\n",
       "</table>\n",
       "<p>5 rows × 30 columns</p>\n",
       "</div>"
      ],
      "text/plain": [
       "   approveDate                 articleID  articleWordCount  \\\n",
       "0   1520043821  5a974697410cf7000162e8a4              1207   \n",
       "1   1520043790  5a974697410cf7000162e8a4              1207   \n",
       "2   1520043789  5a974697410cf7000162e8a4              1207   \n",
       "3   1520043788  5a974697410cf7000162e8a4              1207   \n",
       "4   1520043787  5a974697410cf7000162e8a4              1207   \n",
       "\n",
       "                                         commentBody   commentID  \\\n",
       "0  If the choice is between mining for bitcoin - ...  26188943.0   \n",
       "1  To me, Bitcoin (et al) appears to be an expens...  26189292.0   \n",
       "2  Bitcoin is a pyramid scheme backed by nothing ...  26189645.0   \n",
       "3  What does it cost in energy to dig up and refi...  26189102.0   \n",
       "4             You forgot to mention stock buybacks.   26189683.0   \n",
       "\n",
       "   commentSequence commentType  createDate  depth  editorsSelection  ...  \\\n",
       "0       26188943.0     comment  1520029445    1.0                 0  ...   \n",
       "1       26189292.0     comment  1520031265    1.0                 0  ...   \n",
       "2       26189645.0     comment  1520033172    1.0                 0  ...   \n",
       "3       26189102.0     comment  1520030291    1.0                 0  ...   \n",
       "4       26189683.0     comment  1520033404    1.0                 0  ...   \n",
       "\n",
       "   sharing    status  timespeople trusted  updateDate userDisplayName  \\\n",
       "0        1  approved            1       0  1520043821           Steve   \n",
       "1        0  approved            1       0  1520043790       MyOpinion   \n",
       "2        0  approved            1       0  1520043789       Bert Gold   \n",
       "3        0  approved            1       0  1520043788    James Demers   \n",
       "4        0  approved            1       0  1520043787            Bill   \n",
       "\n",
       "       userID         userLocation  userTitle typeOfMaterial  \n",
       "0  46903103.0              Florida        NaN           News  \n",
       "1     82778.0                  NYC        NaN           News  \n",
       "2   3013548.0  Frederick, Maryland        NaN           News  \n",
       "3  70245222.0             Brooklyn        NaN           News  \n",
       "4  66424344.0           California        NaN           News  \n",
       "\n",
       "[5 rows x 30 columns]"
      ]
     },
     "execution_count": 227,
     "metadata": {},
     "output_type": "execute_result"
    }
   ],
   "source": [
    "# Drop all rows with empty comment bodies: \n",
    "a = mar_comments[mar_comments['commentBody'] == ''].index.to_list()\n",
    "\n",
    "for i in a: \n",
    "    mar_comments.drop(index = [i], axis = 0, inplace = True)\n",
    "mar_comments.head()"
   ]
  },
  {
   "cell_type": "code",
   "execution_count": 264,
   "metadata": {
    "ExecuteTime": {
     "end_time": "2019-04-08T05:00:25.020109Z",
     "start_time": "2019-04-08T05:00:07.498421Z"
    }
   },
   "outputs": [],
   "source": [
    "# Best word freq\n",
    "bestwordfreq_mar = []\n",
    "for i in mar_comments['commentBody'][0:10000]:\n",
    "    x = word_freq(bestwords,i)\n",
    "    bestwordfreq_mar.append(x)\n",
    "bestwordfreq_mar = pd.DataFrame(bestwordfreq_mar)"
   ]
  },
  {
   "cell_type": "code",
   "execution_count": 265,
   "metadata": {
    "ExecuteTime": {
     "end_time": "2019-04-08T05:00:27.866054Z",
     "start_time": "2019-04-08T05:00:27.843735Z"
    }
   },
   "outputs": [],
   "source": [
    "bestwordfreq_mar['articleWordCount'] = mar_comments.articleWordCount\n",
    "bestwordfreq_mar['depth'] = mar_comments.depth\n",
    "bestwordfreq_mar['Target'] = mar_comments.editorsSelection\n",
    "bestwordfreq_mar.dropna(inplace = True)\n",
    "# bestwordfreq_mar.head()"
   ]
  },
  {
   "cell_type": "code",
   "execution_count": 266,
   "metadata": {
    "ExecuteTime": {
     "end_time": "2019-04-08T05:00:55.230706Z",
     "start_time": "2019-04-08T05:00:37.221876Z"
    }
   },
   "outputs": [],
   "source": [
    "worstwordfreq_mar = []\n",
    "for i in mar_comments['commentBody'][0:10000]:\n",
    "    x = word_freq(worstwords,i)\n",
    "    worstwordfreq_mar.append(x)\n",
    "worstwordfreq_mar = pd.DataFrame(worstwordfreq_mar)"
   ]
  },
  {
   "cell_type": "code",
   "execution_count": 267,
   "metadata": {
    "ExecuteTime": {
     "end_time": "2019-04-08T05:00:57.304008Z",
     "start_time": "2019-04-08T05:00:57.282857Z"
    }
   },
   "outputs": [],
   "source": [
    "worstwordfreq_mar['articleWordCount'] = mar_comments.articleWordCount\n",
    "worstwordfreq_mar['depth'] = mar_comments.depth\n",
    "worstwordfreq_mar['Target'] = mar_comments.editorsSelection\n",
    "worstwordfreq_mar.dropna(inplace = True)"
   ]
  },
  {
   "cell_type": "code",
   "execution_count": 279,
   "metadata": {
    "ExecuteTime": {
     "end_time": "2019-04-08T05:04:12.215714Z",
     "start_time": "2019-04-08T05:04:12.202355Z"
    }
   },
   "outputs": [],
   "source": [
    "df1_mar = bestwordfreq_mar[['articleWordCount', 'freq_point', 'freq_job', 'Target']]\n",
    "df2_mar = worstwordfreq_mar[['freq_aw', 'freq_use']]\n",
    "final_df_mar = df1_mar.join(df2_mar)\n",
    "final_df_mar_samp = final_df_mar.sample(5000)"
   ]
  },
  {
   "cell_type": "code",
   "execution_count": 280,
   "metadata": {
    "ExecuteTime": {
     "end_time": "2019-04-08T05:04:17.378732Z",
     "start_time": "2019-04-08T05:04:17.372278Z"
    }
   },
   "outputs": [],
   "source": [
    "x_mar = final_df_mar_samp.drop(columns = ['Target'])\n",
    "y_mar = final_df_mar_samp.Target"
   ]
  },
  {
   "cell_type": "code",
   "execution_count": 281,
   "metadata": {
    "ExecuteTime": {
     "end_time": "2019-04-08T05:04:17.820895Z",
     "start_time": "2019-04-08T05:04:17.802078Z"
    }
   },
   "outputs": [
    {
     "data": {
      "text/plain": [
       "0.9754"
      ]
     },
     "execution_count": 281,
     "metadata": {},
     "output_type": "execute_result"
    }
   ],
   "source": [
    "final_forest.score(x_mar, y_mar)"
   ]
  }
 ],
 "metadata": {
  "kernelspec": {
   "display_name": "Python 3",
   "language": "python",
   "name": "python3"
  },
  "language_info": {
   "codemirror_mode": {
    "name": "ipython",
    "version": 3
   },
   "file_extension": ".py",
   "mimetype": "text/x-python",
   "name": "python",
   "nbconvert_exporter": "python",
   "pygments_lexer": "ipython3",
   "version": "3.7.0"
  }
 },
 "nbformat": 4,
 "nbformat_minor": 2
}
